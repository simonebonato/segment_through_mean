{
 "cells": [
  {
   "attachments": {},
   "cell_type": "markdown",
   "metadata": {},
   "source": [
    "## Importing libraries and data"
   ]
  },
  {
   "cell_type": "code",
   "execution_count": 1,
   "metadata": {},
   "outputs": [],
   "source": [
    "from extractor_class import SegThroughMeanExt\n",
    "\n",
    "import plotly.express as px\n",
    "import plotly.graph_objects as go\n",
    "import numpy as np"
   ]
  },
  {
   "cell_type": "code",
   "execution_count": 2,
   "metadata": {},
   "outputs": [
    {
     "name": "stdout",
     "output_type": "stream",
     "text": [
      "Data shape: (32, 2)\n"
     ]
    },
    {
     "data": {
      "application/vnd.plotly.v1+json": {
       "config": {
        "plotlyServerURL": "https://plot.ly"
       },
       "data": [
        {
         "hovertemplate": "x=%{x}<br>y=%{y}<extra></extra>",
         "legendgroup": "",
         "marker": {
          "color": "#636efa",
          "symbol": "circle"
         },
         "mode": "markers",
         "name": "",
         "orientation": "v",
         "showlegend": false,
         "type": "scatter",
         "x": [
          15.491388320922852,
          15.5,
          15.541589736938477,
          15.149332046508789,
          15.25,
          15.75,
          16,
          16.25,
          16.5,
          16.75,
          17,
          17.114709854125977,
          15.108451843261719,
          17.067001342773438,
          15.148391723632812,
          17,
          16.921030044555664,
          15.18832778930664,
          16.793973922729492,
          15.25,
          15.320296287536621,
          16.75,
          16.63652801513672,
          15.5,
          15.603344917297363,
          16.504680633544922,
          15.75,
          15.784282684326172,
          16.5,
          16.272676467895508,
          16,
          16.25
         ],
         "xaxis": "x",
         "y": [
          15,
          14.99177360534668,
          15,
          15.25,
          15.116599082946777,
          15.0225248336792,
          15.067845344543457,
          15.05887508392334,
          15.049910545349121,
          15.040940284729004,
          15.072924613952637,
          15.25,
          15.5,
          15.5,
          15.75,
          15.610962867736816,
          15.75,
          16,
          16,
          16.14630889892578,
          16.25,
          16.071252822875977,
          16.25,
          16.405925750732422,
          16.5,
          16.5,
          16.709793090820312,
          16.75,
          16.50672149658203,
          16.75,
          16.90624237060547,
          16.770648956298828
         ],
         "yaxis": "y"
        },
        {
         "marker": {
          "color": "red",
          "size": 10
         },
         "mode": "markers",
         "name": "mean",
         "type": "scatter",
         "x": [
          16.051437377929688
         ],
         "y": [
          15.79841423034668
         ]
        }
       ],
       "layout": {
        "height": 700,
        "legend": {
         "tracegroupgap": 0,
         "x": 0.8,
         "y": 0.9
        },
        "margin": {
         "t": 60
        },
        "template": {
         "data": {
          "bar": [
           {
            "error_x": {
             "color": "#2a3f5f"
            },
            "error_y": {
             "color": "#2a3f5f"
            },
            "marker": {
             "line": {
              "color": "#E5ECF6",
              "width": 0.5
             },
             "pattern": {
              "fillmode": "overlay",
              "size": 10,
              "solidity": 0.2
             }
            },
            "type": "bar"
           }
          ],
          "barpolar": [
           {
            "marker": {
             "line": {
              "color": "#E5ECF6",
              "width": 0.5
             },
             "pattern": {
              "fillmode": "overlay",
              "size": 10,
              "solidity": 0.2
             }
            },
            "type": "barpolar"
           }
          ],
          "carpet": [
           {
            "aaxis": {
             "endlinecolor": "#2a3f5f",
             "gridcolor": "white",
             "linecolor": "white",
             "minorgridcolor": "white",
             "startlinecolor": "#2a3f5f"
            },
            "baxis": {
             "endlinecolor": "#2a3f5f",
             "gridcolor": "white",
             "linecolor": "white",
             "minorgridcolor": "white",
             "startlinecolor": "#2a3f5f"
            },
            "type": "carpet"
           }
          ],
          "choropleth": [
           {
            "colorbar": {
             "outlinewidth": 0,
             "ticks": ""
            },
            "type": "choropleth"
           }
          ],
          "contour": [
           {
            "colorbar": {
             "outlinewidth": 0,
             "ticks": ""
            },
            "colorscale": [
             [
              0,
              "#0d0887"
             ],
             [
              0.1111111111111111,
              "#46039f"
             ],
             [
              0.2222222222222222,
              "#7201a8"
             ],
             [
              0.3333333333333333,
              "#9c179e"
             ],
             [
              0.4444444444444444,
              "#bd3786"
             ],
             [
              0.5555555555555556,
              "#d8576b"
             ],
             [
              0.6666666666666666,
              "#ed7953"
             ],
             [
              0.7777777777777778,
              "#fb9f3a"
             ],
             [
              0.8888888888888888,
              "#fdca26"
             ],
             [
              1,
              "#f0f921"
             ]
            ],
            "type": "contour"
           }
          ],
          "contourcarpet": [
           {
            "colorbar": {
             "outlinewidth": 0,
             "ticks": ""
            },
            "type": "contourcarpet"
           }
          ],
          "heatmap": [
           {
            "colorbar": {
             "outlinewidth": 0,
             "ticks": ""
            },
            "colorscale": [
             [
              0,
              "#0d0887"
             ],
             [
              0.1111111111111111,
              "#46039f"
             ],
             [
              0.2222222222222222,
              "#7201a8"
             ],
             [
              0.3333333333333333,
              "#9c179e"
             ],
             [
              0.4444444444444444,
              "#bd3786"
             ],
             [
              0.5555555555555556,
              "#d8576b"
             ],
             [
              0.6666666666666666,
              "#ed7953"
             ],
             [
              0.7777777777777778,
              "#fb9f3a"
             ],
             [
              0.8888888888888888,
              "#fdca26"
             ],
             [
              1,
              "#f0f921"
             ]
            ],
            "type": "heatmap"
           }
          ],
          "heatmapgl": [
           {
            "colorbar": {
             "outlinewidth": 0,
             "ticks": ""
            },
            "colorscale": [
             [
              0,
              "#0d0887"
             ],
             [
              0.1111111111111111,
              "#46039f"
             ],
             [
              0.2222222222222222,
              "#7201a8"
             ],
             [
              0.3333333333333333,
              "#9c179e"
             ],
             [
              0.4444444444444444,
              "#bd3786"
             ],
             [
              0.5555555555555556,
              "#d8576b"
             ],
             [
              0.6666666666666666,
              "#ed7953"
             ],
             [
              0.7777777777777778,
              "#fb9f3a"
             ],
             [
              0.8888888888888888,
              "#fdca26"
             ],
             [
              1,
              "#f0f921"
             ]
            ],
            "type": "heatmapgl"
           }
          ],
          "histogram": [
           {
            "marker": {
             "pattern": {
              "fillmode": "overlay",
              "size": 10,
              "solidity": 0.2
             }
            },
            "type": "histogram"
           }
          ],
          "histogram2d": [
           {
            "colorbar": {
             "outlinewidth": 0,
             "ticks": ""
            },
            "colorscale": [
             [
              0,
              "#0d0887"
             ],
             [
              0.1111111111111111,
              "#46039f"
             ],
             [
              0.2222222222222222,
              "#7201a8"
             ],
             [
              0.3333333333333333,
              "#9c179e"
             ],
             [
              0.4444444444444444,
              "#bd3786"
             ],
             [
              0.5555555555555556,
              "#d8576b"
             ],
             [
              0.6666666666666666,
              "#ed7953"
             ],
             [
              0.7777777777777778,
              "#fb9f3a"
             ],
             [
              0.8888888888888888,
              "#fdca26"
             ],
             [
              1,
              "#f0f921"
             ]
            ],
            "type": "histogram2d"
           }
          ],
          "histogram2dcontour": [
           {
            "colorbar": {
             "outlinewidth": 0,
             "ticks": ""
            },
            "colorscale": [
             [
              0,
              "#0d0887"
             ],
             [
              0.1111111111111111,
              "#46039f"
             ],
             [
              0.2222222222222222,
              "#7201a8"
             ],
             [
              0.3333333333333333,
              "#9c179e"
             ],
             [
              0.4444444444444444,
              "#bd3786"
             ],
             [
              0.5555555555555556,
              "#d8576b"
             ],
             [
              0.6666666666666666,
              "#ed7953"
             ],
             [
              0.7777777777777778,
              "#fb9f3a"
             ],
             [
              0.8888888888888888,
              "#fdca26"
             ],
             [
              1,
              "#f0f921"
             ]
            ],
            "type": "histogram2dcontour"
           }
          ],
          "mesh3d": [
           {
            "colorbar": {
             "outlinewidth": 0,
             "ticks": ""
            },
            "type": "mesh3d"
           }
          ],
          "parcoords": [
           {
            "line": {
             "colorbar": {
              "outlinewidth": 0,
              "ticks": ""
             }
            },
            "type": "parcoords"
           }
          ],
          "pie": [
           {
            "automargin": true,
            "type": "pie"
           }
          ],
          "scatter": [
           {
            "fillpattern": {
             "fillmode": "overlay",
             "size": 10,
             "solidity": 0.2
            },
            "type": "scatter"
           }
          ],
          "scatter3d": [
           {
            "line": {
             "colorbar": {
              "outlinewidth": 0,
              "ticks": ""
             }
            },
            "marker": {
             "colorbar": {
              "outlinewidth": 0,
              "ticks": ""
             }
            },
            "type": "scatter3d"
           }
          ],
          "scattercarpet": [
           {
            "marker": {
             "colorbar": {
              "outlinewidth": 0,
              "ticks": ""
             }
            },
            "type": "scattercarpet"
           }
          ],
          "scattergeo": [
           {
            "marker": {
             "colorbar": {
              "outlinewidth": 0,
              "ticks": ""
             }
            },
            "type": "scattergeo"
           }
          ],
          "scattergl": [
           {
            "marker": {
             "colorbar": {
              "outlinewidth": 0,
              "ticks": ""
             }
            },
            "type": "scattergl"
           }
          ],
          "scattermapbox": [
           {
            "marker": {
             "colorbar": {
              "outlinewidth": 0,
              "ticks": ""
             }
            },
            "type": "scattermapbox"
           }
          ],
          "scatterpolar": [
           {
            "marker": {
             "colorbar": {
              "outlinewidth": 0,
              "ticks": ""
             }
            },
            "type": "scatterpolar"
           }
          ],
          "scatterpolargl": [
           {
            "marker": {
             "colorbar": {
              "outlinewidth": 0,
              "ticks": ""
             }
            },
            "type": "scatterpolargl"
           }
          ],
          "scatterternary": [
           {
            "marker": {
             "colorbar": {
              "outlinewidth": 0,
              "ticks": ""
             }
            },
            "type": "scatterternary"
           }
          ],
          "surface": [
           {
            "colorbar": {
             "outlinewidth": 0,
             "ticks": ""
            },
            "colorscale": [
             [
              0,
              "#0d0887"
             ],
             [
              0.1111111111111111,
              "#46039f"
             ],
             [
              0.2222222222222222,
              "#7201a8"
             ],
             [
              0.3333333333333333,
              "#9c179e"
             ],
             [
              0.4444444444444444,
              "#bd3786"
             ],
             [
              0.5555555555555556,
              "#d8576b"
             ],
             [
              0.6666666666666666,
              "#ed7953"
             ],
             [
              0.7777777777777778,
              "#fb9f3a"
             ],
             [
              0.8888888888888888,
              "#fdca26"
             ],
             [
              1,
              "#f0f921"
             ]
            ],
            "type": "surface"
           }
          ],
          "table": [
           {
            "cells": {
             "fill": {
              "color": "#EBF0F8"
             },
             "line": {
              "color": "white"
             }
            },
            "header": {
             "fill": {
              "color": "#C8D4E3"
             },
             "line": {
              "color": "white"
             }
            },
            "type": "table"
           }
          ]
         },
         "layout": {
          "annotationdefaults": {
           "arrowcolor": "#2a3f5f",
           "arrowhead": 0,
           "arrowwidth": 1
          },
          "autotypenumbers": "strict",
          "coloraxis": {
           "colorbar": {
            "outlinewidth": 0,
            "ticks": ""
           }
          },
          "colorscale": {
           "diverging": [
            [
             0,
             "#8e0152"
            ],
            [
             0.1,
             "#c51b7d"
            ],
            [
             0.2,
             "#de77ae"
            ],
            [
             0.3,
             "#f1b6da"
            ],
            [
             0.4,
             "#fde0ef"
            ],
            [
             0.5,
             "#f7f7f7"
            ],
            [
             0.6,
             "#e6f5d0"
            ],
            [
             0.7,
             "#b8e186"
            ],
            [
             0.8,
             "#7fbc41"
            ],
            [
             0.9,
             "#4d9221"
            ],
            [
             1,
             "#276419"
            ]
           ],
           "sequential": [
            [
             0,
             "#0d0887"
            ],
            [
             0.1111111111111111,
             "#46039f"
            ],
            [
             0.2222222222222222,
             "#7201a8"
            ],
            [
             0.3333333333333333,
             "#9c179e"
            ],
            [
             0.4444444444444444,
             "#bd3786"
            ],
            [
             0.5555555555555556,
             "#d8576b"
            ],
            [
             0.6666666666666666,
             "#ed7953"
            ],
            [
             0.7777777777777778,
             "#fb9f3a"
            ],
            [
             0.8888888888888888,
             "#fdca26"
            ],
            [
             1,
             "#f0f921"
            ]
           ],
           "sequentialminus": [
            [
             0,
             "#0d0887"
            ],
            [
             0.1111111111111111,
             "#46039f"
            ],
            [
             0.2222222222222222,
             "#7201a8"
            ],
            [
             0.3333333333333333,
             "#9c179e"
            ],
            [
             0.4444444444444444,
             "#bd3786"
            ],
            [
             0.5555555555555556,
             "#d8576b"
            ],
            [
             0.6666666666666666,
             "#ed7953"
            ],
            [
             0.7777777777777778,
             "#fb9f3a"
            ],
            [
             0.8888888888888888,
             "#fdca26"
            ],
            [
             1,
             "#f0f921"
            ]
           ]
          },
          "colorway": [
           "#636efa",
           "#EF553B",
           "#00cc96",
           "#ab63fa",
           "#FFA15A",
           "#19d3f3",
           "#FF6692",
           "#B6E880",
           "#FF97FF",
           "#FECB52"
          ],
          "font": {
           "color": "#2a3f5f"
          },
          "geo": {
           "bgcolor": "white",
           "lakecolor": "white",
           "landcolor": "#E5ECF6",
           "showlakes": true,
           "showland": true,
           "subunitcolor": "white"
          },
          "hoverlabel": {
           "align": "left"
          },
          "hovermode": "closest",
          "mapbox": {
           "style": "light"
          },
          "paper_bgcolor": "white",
          "plot_bgcolor": "#E5ECF6",
          "polar": {
           "angularaxis": {
            "gridcolor": "white",
            "linecolor": "white",
            "ticks": ""
           },
           "bgcolor": "#E5ECF6",
           "radialaxis": {
            "gridcolor": "white",
            "linecolor": "white",
            "ticks": ""
           }
          },
          "scene": {
           "xaxis": {
            "backgroundcolor": "#E5ECF6",
            "gridcolor": "white",
            "gridwidth": 2,
            "linecolor": "white",
            "showbackground": true,
            "ticks": "",
            "zerolinecolor": "white"
           },
           "yaxis": {
            "backgroundcolor": "#E5ECF6",
            "gridcolor": "white",
            "gridwidth": 2,
            "linecolor": "white",
            "showbackground": true,
            "ticks": "",
            "zerolinecolor": "white"
           },
           "zaxis": {
            "backgroundcolor": "#E5ECF6",
            "gridcolor": "white",
            "gridwidth": 2,
            "linecolor": "white",
            "showbackground": true,
            "ticks": "",
            "zerolinecolor": "white"
           }
          },
          "shapedefaults": {
           "line": {
            "color": "#2a3f5f"
           }
          },
          "ternary": {
           "aaxis": {
            "gridcolor": "white",
            "linecolor": "white",
            "ticks": ""
           },
           "baxis": {
            "gridcolor": "white",
            "linecolor": "white",
            "ticks": ""
           },
           "bgcolor": "#E5ECF6",
           "caxis": {
            "gridcolor": "white",
            "linecolor": "white",
            "ticks": ""
           }
          },
          "title": {
           "x": 0.05
          },
          "xaxis": {
           "automargin": true,
           "gridcolor": "white",
           "linecolor": "white",
           "ticks": "",
           "title": {
            "standoff": 15
           },
           "zerolinecolor": "white",
           "zerolinewidth": 2
          },
          "yaxis": {
           "automargin": true,
           "gridcolor": "white",
           "linecolor": "white",
           "ticks": "",
           "title": {
            "standoff": 15
           },
           "zerolinecolor": "white",
           "zerolinewidth": 2
          }
         }
        },
        "title": {
         "text": "Data points"
        },
        "width": 700,
        "xaxis": {
         "anchor": "y",
         "domain": [
          0,
          1
         ],
         "title": {
          "text": "x"
         }
        },
        "yaxis": {
         "anchor": "x",
         "domain": [
          0,
          1
         ],
         "title": {
          "text": "y"
         }
        }
       }
      }
     },
     "metadata": {},
     "output_type": "display_data"
    }
   ],
   "source": [
    "# Load the data and the mean point\n",
    "data = np.load(\"points.npy\")\n",
    "mean_point = (np.mean(data[:, 0]), np.mean(data[:, 1]))\n",
    "\n",
    "# for plotly\n",
    "mean_marker = dict(color=\"red\", size=10)\n",
    "layout = {\"width\": 700, \"height\": 700, \"legend\": {\"x\": 0.8, \"y\": 0.9}}\n",
    "\n",
    "# Check the shape of the data\n",
    "print(f\"Data shape: {data.shape}\")\n",
    "\n",
    "# ----------------------------- plot -----------------------------\n",
    "fig = px.scatter(x=data[:, 0], y=data[:, 1])\n",
    "fig.add_trace(\n",
    "    go.Scatter(\n",
    "        x=[mean_point[0]],\n",
    "        y=[mean_point[1]],\n",
    "        mode=\"markers\",\n",
    "        name=\"mean\",\n",
    "        marker=mean_marker,\n",
    "    )\n",
    ")\n",
    "fig.update_layout(title=\"Data points\", **layout)\n",
    "fig.show()"
   ]
  },
  {
   "attachments": {},
   "cell_type": "markdown",
   "metadata": {},
   "source": [
    "## Finding the consecutive segments"
   ]
  },
  {
   "cell_type": "code",
   "execution_count": 3,
   "metadata": {},
   "outputs": [
    {
     "data": {
      "application/vnd.plotly.v1+json": {
       "config": {
        "plotlyServerURL": "https://plot.ly"
       },
       "data": [
        {
         "marker": {
          "color": "red",
          "size": 10
         },
         "mode": "markers",
         "name": "mean",
         "type": "scatter",
         "x": [
          16.051437377929688
         ],
         "y": [
          15.79841423034668
         ]
        },
        {
         "mode": "lines",
         "showlegend": false,
         "type": "scatter",
         "x": [
          15.491388320922852,
          15.5
         ],
         "y": [
          15,
          14.99177360534668
         ]
        },
        {
         "mode": "lines",
         "showlegend": false,
         "type": "scatter",
         "x": [
          15.491388320922852,
          15.5
         ],
         "y": [
          15,
          14.99177360534668
         ]
        },
        {
         "mode": "lines",
         "showlegend": false,
         "type": "scatter",
         "x": [
          15.491388320922852,
          15.25
         ],
         "y": [
          15,
          15.116599082946777
         ]
        },
        {
         "mode": "lines",
         "showlegend": false,
         "type": "scatter",
         "x": [
          15.491388320922852,
          15.25
         ],
         "y": [
          15,
          15.116599082946777
         ]
        },
        {
         "mode": "lines",
         "showlegend": false,
         "type": "scatter",
         "x": [
          15.5,
          15.491388320922852
         ],
         "y": [
          14.99177360534668,
          15
         ]
        },
        {
         "mode": "lines",
         "showlegend": false,
         "type": "scatter",
         "x": [
          15.5,
          15.491388320922852
         ],
         "y": [
          14.99177360534668,
          15
         ]
        },
        {
         "mode": "lines",
         "showlegend": false,
         "type": "scatter",
         "x": [
          15.5,
          15.541589736938477
         ],
         "y": [
          14.99177360534668,
          15
         ]
        },
        {
         "mode": "lines",
         "showlegend": false,
         "type": "scatter",
         "x": [
          15.5,
          15.541589736938477
         ],
         "y": [
          14.99177360534668,
          15
         ]
        },
        {
         "mode": "lines",
         "showlegend": false,
         "type": "scatter",
         "x": [
          15.541589736938477,
          15.5
         ],
         "y": [
          15,
          14.99177360534668
         ]
        },
        {
         "mode": "lines",
         "showlegend": false,
         "type": "scatter",
         "x": [
          15.541589736938477,
          15.5
         ],
         "y": [
          15,
          14.99177360534668
         ]
        },
        {
         "mode": "lines",
         "showlegend": false,
         "type": "scatter",
         "x": [
          15.541589736938477,
          15.75
         ],
         "y": [
          15,
          15.0225248336792
         ]
        },
        {
         "mode": "lines",
         "showlegend": false,
         "type": "scatter",
         "x": [
          15.541589736938477,
          15.75
         ],
         "y": [
          15,
          15.0225248336792
         ]
        },
        {
         "mode": "lines",
         "showlegend": false,
         "type": "scatter",
         "x": [
          15.149332046508789,
          15.25
         ],
         "y": [
          15.25,
          15.116599082946777
         ]
        },
        {
         "mode": "lines",
         "showlegend": false,
         "type": "scatter",
         "x": [
          15.149332046508789,
          15.25
         ],
         "y": [
          15.25,
          15.116599082946777
         ]
        },
        {
         "mode": "lines",
         "showlegend": false,
         "type": "scatter",
         "x": [
          15.149332046508789,
          15.108451843261719
         ],
         "y": [
          15.25,
          15.5
         ]
        },
        {
         "mode": "lines",
         "showlegend": false,
         "type": "scatter",
         "x": [
          15.149332046508789,
          15.108451843261719
         ],
         "y": [
          15.25,
          15.5
         ]
        },
        {
         "mode": "lines",
         "showlegend": false,
         "type": "scatter",
         "x": [
          15.25,
          15.149332046508789
         ],
         "y": [
          15.116599082946777,
          15.25
         ]
        },
        {
         "mode": "lines",
         "showlegend": false,
         "type": "scatter",
         "x": [
          15.25,
          15.149332046508789
         ],
         "y": [
          15.116599082946777,
          15.25
         ]
        },
        {
         "mode": "lines",
         "showlegend": false,
         "type": "scatter",
         "x": [
          15.25,
          15.491388320922852
         ],
         "y": [
          15.116599082946777,
          15
         ]
        },
        {
         "mode": "lines",
         "showlegend": false,
         "type": "scatter",
         "x": [
          15.25,
          15.491388320922852
         ],
         "y": [
          15.116599082946777,
          15
         ]
        },
        {
         "mode": "lines",
         "showlegend": false,
         "type": "scatter",
         "x": [
          15.75,
          15.541589736938477
         ],
         "y": [
          15.0225248336792,
          15
         ]
        },
        {
         "mode": "lines",
         "showlegend": false,
         "type": "scatter",
         "x": [
          15.75,
          15.541589736938477
         ],
         "y": [
          15.0225248336792,
          15
         ]
        },
        {
         "mode": "lines",
         "showlegend": false,
         "type": "scatter",
         "x": [
          15.75,
          16
         ],
         "y": [
          15.0225248336792,
          15.067845344543457
         ]
        },
        {
         "mode": "lines",
         "showlegend": false,
         "type": "scatter",
         "x": [
          15.75,
          16
         ],
         "y": [
          15.0225248336792,
          15.067845344543457
         ]
        },
        {
         "mode": "lines",
         "showlegend": false,
         "type": "scatter",
         "x": [
          16,
          16.25
         ],
         "y": [
          15.067845344543457,
          15.05887508392334
         ]
        },
        {
         "mode": "lines",
         "showlegend": false,
         "type": "scatter",
         "x": [
          16,
          16.25
         ],
         "y": [
          15.067845344543457,
          15.05887508392334
         ]
        },
        {
         "mode": "lines",
         "showlegend": false,
         "type": "scatter",
         "x": [
          16,
          15.75
         ],
         "y": [
          15.067845344543457,
          15.0225248336792
         ]
        },
        {
         "mode": "lines",
         "showlegend": false,
         "type": "scatter",
         "x": [
          16,
          15.75
         ],
         "y": [
          15.067845344543457,
          15.0225248336792
         ]
        },
        {
         "mode": "lines",
         "showlegend": false,
         "type": "scatter",
         "x": [
          16.25,
          16.5
         ],
         "y": [
          15.05887508392334,
          15.049910545349121
         ]
        },
        {
         "mode": "lines",
         "showlegend": false,
         "type": "scatter",
         "x": [
          16.25,
          16.5
         ],
         "y": [
          15.05887508392334,
          15.049910545349121
         ]
        },
        {
         "mode": "lines",
         "showlegend": false,
         "type": "scatter",
         "x": [
          16.25,
          16
         ],
         "y": [
          15.05887508392334,
          15.067845344543457
         ]
        },
        {
         "mode": "lines",
         "showlegend": false,
         "type": "scatter",
         "x": [
          16.25,
          16
         ],
         "y": [
          15.05887508392334,
          15.067845344543457
         ]
        },
        {
         "mode": "lines",
         "showlegend": false,
         "type": "scatter",
         "x": [
          16.5,
          16.25
         ],
         "y": [
          15.049910545349121,
          15.05887508392334
         ]
        },
        {
         "mode": "lines",
         "showlegend": false,
         "type": "scatter",
         "x": [
          16.5,
          16.25
         ],
         "y": [
          15.049910545349121,
          15.05887508392334
         ]
        },
        {
         "mode": "lines",
         "showlegend": false,
         "type": "scatter",
         "x": [
          16.5,
          16.75
         ],
         "y": [
          15.049910545349121,
          15.040940284729004
         ]
        },
        {
         "mode": "lines",
         "showlegend": false,
         "type": "scatter",
         "x": [
          16.5,
          16.75
         ],
         "y": [
          15.049910545349121,
          15.040940284729004
         ]
        },
        {
         "mode": "lines",
         "showlegend": false,
         "type": "scatter",
         "x": [
          16.75,
          16.5
         ],
         "y": [
          15.040940284729004,
          15.049910545349121
         ]
        },
        {
         "mode": "lines",
         "showlegend": false,
         "type": "scatter",
         "x": [
          16.75,
          16.5
         ],
         "y": [
          15.040940284729004,
          15.049910545349121
         ]
        },
        {
         "mode": "lines",
         "showlegend": false,
         "type": "scatter",
         "x": [
          16.75,
          17
         ],
         "y": [
          15.040940284729004,
          15.072924613952637
         ]
        },
        {
         "mode": "lines",
         "showlegend": false,
         "type": "scatter",
         "x": [
          16.75,
          17
         ],
         "y": [
          15.040940284729004,
          15.072924613952637
         ]
        },
        {
         "mode": "lines",
         "showlegend": false,
         "type": "scatter",
         "x": [
          17,
          17.114709854125977
         ],
         "y": [
          15.072924613952637,
          15.25
         ]
        },
        {
         "mode": "lines",
         "showlegend": false,
         "type": "scatter",
         "x": [
          17,
          17.114709854125977
         ],
         "y": [
          15.072924613952637,
          15.25
         ]
        },
        {
         "mode": "lines",
         "showlegend": false,
         "type": "scatter",
         "x": [
          17,
          16.75
         ],
         "y": [
          15.072924613952637,
          15.040940284729004
         ]
        },
        {
         "mode": "lines",
         "showlegend": false,
         "type": "scatter",
         "x": [
          17,
          16.75
         ],
         "y": [
          15.072924613952637,
          15.040940284729004
         ]
        },
        {
         "mode": "lines",
         "showlegend": false,
         "type": "scatter",
         "x": [
          17.114709854125977,
          17
         ],
         "y": [
          15.25,
          15.072924613952637
         ]
        },
        {
         "mode": "lines",
         "showlegend": false,
         "type": "scatter",
         "x": [
          17.114709854125977,
          17
         ],
         "y": [
          15.25,
          15.072924613952637
         ]
        },
        {
         "mode": "lines",
         "showlegend": false,
         "type": "scatter",
         "x": [
          17.114709854125977,
          17.067001342773438
         ],
         "y": [
          15.25,
          15.5
         ]
        },
        {
         "mode": "lines",
         "showlegend": false,
         "type": "scatter",
         "x": [
          17.114709854125977,
          17.067001342773438
         ],
         "y": [
          15.25,
          15.5
         ]
        },
        {
         "mode": "lines",
         "showlegend": false,
         "type": "scatter",
         "x": [
          15.108451843261719,
          15.148391723632812
         ],
         "y": [
          15.5,
          15.75
         ]
        },
        {
         "mode": "lines",
         "showlegend": false,
         "type": "scatter",
         "x": [
          15.108451843261719,
          15.148391723632812
         ],
         "y": [
          15.5,
          15.75
         ]
        },
        {
         "mode": "lines",
         "showlegend": false,
         "type": "scatter",
         "x": [
          15.108451843261719,
          15.149332046508789
         ],
         "y": [
          15.5,
          15.25
         ]
        },
        {
         "mode": "lines",
         "showlegend": false,
         "type": "scatter",
         "x": [
          15.108451843261719,
          15.149332046508789
         ],
         "y": [
          15.5,
          15.25
         ]
        },
        {
         "mode": "lines",
         "showlegend": false,
         "type": "scatter",
         "x": [
          17.067001342773438,
          17
         ],
         "y": [
          15.5,
          15.610962867736816
         ]
        },
        {
         "mode": "lines",
         "showlegend": false,
         "type": "scatter",
         "x": [
          17.067001342773438,
          17
         ],
         "y": [
          15.5,
          15.610962867736816
         ]
        },
        {
         "mode": "lines",
         "showlegend": false,
         "type": "scatter",
         "x": [
          17.067001342773438,
          17.114709854125977
         ],
         "y": [
          15.5,
          15.25
         ]
        },
        {
         "mode": "lines",
         "showlegend": false,
         "type": "scatter",
         "x": [
          17.067001342773438,
          17.114709854125977
         ],
         "y": [
          15.5,
          15.25
         ]
        },
        {
         "mode": "lines",
         "showlegend": false,
         "type": "scatter",
         "x": [
          15.148391723632812,
          15.18832778930664
         ],
         "y": [
          15.75,
          16
         ]
        },
        {
         "mode": "lines",
         "showlegend": false,
         "type": "scatter",
         "x": [
          15.148391723632812,
          15.18832778930664
         ],
         "y": [
          15.75,
          16
         ]
        },
        {
         "mode": "lines",
         "showlegend": false,
         "type": "scatter",
         "x": [
          15.148391723632812,
          15.108451843261719
         ],
         "y": [
          15.75,
          15.5
         ]
        },
        {
         "mode": "lines",
         "showlegend": false,
         "type": "scatter",
         "x": [
          15.148391723632812,
          15.108451843261719
         ],
         "y": [
          15.75,
          15.5
         ]
        },
        {
         "mode": "lines",
         "showlegend": false,
         "type": "scatter",
         "x": [
          17,
          17.067001342773438
         ],
         "y": [
          15.610962867736816,
          15.5
         ]
        },
        {
         "mode": "lines",
         "showlegend": false,
         "type": "scatter",
         "x": [
          17,
          17.067001342773438
         ],
         "y": [
          15.610962867736816,
          15.5
         ]
        },
        {
         "mode": "lines",
         "showlegend": false,
         "type": "scatter",
         "x": [
          17,
          16.921030044555664
         ],
         "y": [
          15.610962867736816,
          15.75
         ]
        },
        {
         "mode": "lines",
         "showlegend": false,
         "type": "scatter",
         "x": [
          17,
          16.921030044555664
         ],
         "y": [
          15.610962867736816,
          15.75
         ]
        },
        {
         "mode": "lines",
         "showlegend": false,
         "type": "scatter",
         "x": [
          16.921030044555664,
          17
         ],
         "y": [
          15.75,
          15.610962867736816
         ]
        },
        {
         "mode": "lines",
         "showlegend": false,
         "type": "scatter",
         "x": [
          16.921030044555664,
          17
         ],
         "y": [
          15.75,
          15.610962867736816
         ]
        },
        {
         "mode": "lines",
         "showlegend": false,
         "type": "scatter",
         "x": [
          16.921030044555664,
          16.793973922729492
         ],
         "y": [
          15.75,
          16
         ]
        },
        {
         "mode": "lines",
         "showlegend": false,
         "type": "scatter",
         "x": [
          16.921030044555664,
          16.793973922729492
         ],
         "y": [
          15.75,
          16
         ]
        },
        {
         "mode": "lines",
         "showlegend": false,
         "type": "scatter",
         "x": [
          15.18832778930664,
          15.25
         ],
         "y": [
          16,
          16.14630889892578
         ]
        },
        {
         "mode": "lines",
         "showlegend": false,
         "type": "scatter",
         "x": [
          15.18832778930664,
          15.25
         ],
         "y": [
          16,
          16.14630889892578
         ]
        },
        {
         "mode": "lines",
         "showlegend": false,
         "type": "scatter",
         "x": [
          15.18832778930664,
          15.148391723632812
         ],
         "y": [
          16,
          15.75
         ]
        },
        {
         "mode": "lines",
         "showlegend": false,
         "type": "scatter",
         "x": [
          15.18832778930664,
          15.148391723632812
         ],
         "y": [
          16,
          15.75
         ]
        },
        {
         "mode": "lines",
         "showlegend": false,
         "type": "scatter",
         "x": [
          16.793973922729492,
          16.75
         ],
         "y": [
          16,
          16.071252822875977
         ]
        },
        {
         "mode": "lines",
         "showlegend": false,
         "type": "scatter",
         "x": [
          16.793973922729492,
          16.75
         ],
         "y": [
          16,
          16.071252822875977
         ]
        },
        {
         "mode": "lines",
         "showlegend": false,
         "type": "scatter",
         "x": [
          16.793973922729492,
          16.921030044555664
         ],
         "y": [
          16,
          15.75
         ]
        },
        {
         "mode": "lines",
         "showlegend": false,
         "type": "scatter",
         "x": [
          16.793973922729492,
          16.921030044555664
         ],
         "y": [
          16,
          15.75
         ]
        },
        {
         "mode": "lines",
         "showlegend": false,
         "type": "scatter",
         "x": [
          15.25,
          15.320296287536621
         ],
         "y": [
          16.14630889892578,
          16.25
         ]
        },
        {
         "mode": "lines",
         "showlegend": false,
         "type": "scatter",
         "x": [
          15.25,
          15.320296287536621
         ],
         "y": [
          16.14630889892578,
          16.25
         ]
        },
        {
         "mode": "lines",
         "showlegend": false,
         "type": "scatter",
         "x": [
          15.25,
          15.18832778930664
         ],
         "y": [
          16.14630889892578,
          16
         ]
        },
        {
         "mode": "lines",
         "showlegend": false,
         "type": "scatter",
         "x": [
          15.25,
          15.18832778930664
         ],
         "y": [
          16.14630889892578,
          16
         ]
        },
        {
         "mode": "lines",
         "showlegend": false,
         "type": "scatter",
         "x": [
          15.320296287536621,
          15.25
         ],
         "y": [
          16.25,
          16.14630889892578
         ]
        },
        {
         "mode": "lines",
         "showlegend": false,
         "type": "scatter",
         "x": [
          15.320296287536621,
          15.25
         ],
         "y": [
          16.25,
          16.14630889892578
         ]
        },
        {
         "mode": "lines",
         "showlegend": false,
         "type": "scatter",
         "x": [
          15.320296287536621,
          15.5
         ],
         "y": [
          16.25,
          16.405925750732422
         ]
        },
        {
         "mode": "lines",
         "showlegend": false,
         "type": "scatter",
         "x": [
          15.320296287536621,
          15.5
         ],
         "y": [
          16.25,
          16.405925750732422
         ]
        },
        {
         "mode": "lines",
         "showlegend": false,
         "type": "scatter",
         "x": [
          16.75,
          16.793973922729492
         ],
         "y": [
          16.071252822875977,
          16
         ]
        },
        {
         "mode": "lines",
         "showlegend": false,
         "type": "scatter",
         "x": [
          16.75,
          16.793973922729492
         ],
         "y": [
          16.071252822875977,
          16
         ]
        },
        {
         "mode": "lines",
         "showlegend": false,
         "type": "scatter",
         "x": [
          16.75,
          16.63652801513672
         ],
         "y": [
          16.071252822875977,
          16.25
         ]
        },
        {
         "mode": "lines",
         "showlegend": false,
         "type": "scatter",
         "x": [
          16.75,
          16.63652801513672
         ],
         "y": [
          16.071252822875977,
          16.25
         ]
        },
        {
         "mode": "lines",
         "showlegend": false,
         "type": "scatter",
         "x": [
          16.63652801513672,
          16.75
         ],
         "y": [
          16.25,
          16.071252822875977
         ]
        },
        {
         "mode": "lines",
         "showlegend": false,
         "type": "scatter",
         "x": [
          16.63652801513672,
          16.75
         ],
         "y": [
          16.25,
          16.071252822875977
         ]
        },
        {
         "mode": "lines",
         "showlegend": false,
         "type": "scatter",
         "x": [
          16.63652801513672,
          16.504680633544922
         ],
         "y": [
          16.25,
          16.5
         ]
        },
        {
         "mode": "lines",
         "showlegend": false,
         "type": "scatter",
         "x": [
          16.63652801513672,
          16.504680633544922
         ],
         "y": [
          16.25,
          16.5
         ]
        },
        {
         "mode": "lines",
         "showlegend": false,
         "type": "scatter",
         "x": [
          15.5,
          15.603344917297363
         ],
         "y": [
          16.405925750732422,
          16.5
         ]
        },
        {
         "mode": "lines",
         "showlegend": false,
         "type": "scatter",
         "x": [
          15.5,
          15.603344917297363
         ],
         "y": [
          16.405925750732422,
          16.5
         ]
        },
        {
         "mode": "lines",
         "showlegend": false,
         "type": "scatter",
         "x": [
          15.5,
          15.320296287536621
         ],
         "y": [
          16.405925750732422,
          16.25
         ]
        },
        {
         "mode": "lines",
         "showlegend": false,
         "type": "scatter",
         "x": [
          15.5,
          15.320296287536621
         ],
         "y": [
          16.405925750732422,
          16.25
         ]
        },
        {
         "mode": "lines",
         "showlegend": false,
         "type": "scatter",
         "x": [
          15.603344917297363,
          15.5
         ],
         "y": [
          16.5,
          16.405925750732422
         ]
        },
        {
         "mode": "lines",
         "showlegend": false,
         "type": "scatter",
         "x": [
          15.603344917297363,
          15.5
         ],
         "y": [
          16.5,
          16.405925750732422
         ]
        },
        {
         "mode": "lines",
         "showlegend": false,
         "type": "scatter",
         "x": [
          15.603344917297363,
          15.75
         ],
         "y": [
          16.5,
          16.709793090820312
         ]
        },
        {
         "mode": "lines",
         "showlegend": false,
         "type": "scatter",
         "x": [
          15.603344917297363,
          15.75
         ],
         "y": [
          16.5,
          16.709793090820312
         ]
        },
        {
         "mode": "lines",
         "showlegend": false,
         "type": "scatter",
         "x": [
          16.504680633544922,
          16.5
         ],
         "y": [
          16.5,
          16.50672149658203
         ]
        },
        {
         "mode": "lines",
         "showlegend": false,
         "type": "scatter",
         "x": [
          16.504680633544922,
          16.5
         ],
         "y": [
          16.5,
          16.50672149658203
         ]
        },
        {
         "mode": "lines",
         "showlegend": false,
         "type": "scatter",
         "x": [
          16.504680633544922,
          16.63652801513672
         ],
         "y": [
          16.5,
          16.25
         ]
        },
        {
         "mode": "lines",
         "showlegend": false,
         "type": "scatter",
         "x": [
          16.504680633544922,
          16.63652801513672
         ],
         "y": [
          16.5,
          16.25
         ]
        },
        {
         "mode": "lines",
         "showlegend": false,
         "type": "scatter",
         "x": [
          15.75,
          15.784282684326172
         ],
         "y": [
          16.709793090820312,
          16.75
         ]
        },
        {
         "mode": "lines",
         "showlegend": false,
         "type": "scatter",
         "x": [
          15.75,
          15.784282684326172
         ],
         "y": [
          16.709793090820312,
          16.75
         ]
        },
        {
         "mode": "lines",
         "showlegend": false,
         "type": "scatter",
         "x": [
          15.75,
          15.603344917297363
         ],
         "y": [
          16.709793090820312,
          16.5
         ]
        },
        {
         "mode": "lines",
         "showlegend": false,
         "type": "scatter",
         "x": [
          15.75,
          15.603344917297363
         ],
         "y": [
          16.709793090820312,
          16.5
         ]
        },
        {
         "mode": "lines",
         "showlegend": false,
         "type": "scatter",
         "x": [
          15.784282684326172,
          15.75
         ],
         "y": [
          16.75,
          16.709793090820312
         ]
        },
        {
         "mode": "lines",
         "showlegend": false,
         "type": "scatter",
         "x": [
          15.784282684326172,
          15.75
         ],
         "y": [
          16.75,
          16.709793090820312
         ]
        },
        {
         "mode": "lines",
         "showlegend": false,
         "type": "scatter",
         "x": [
          15.784282684326172,
          16
         ],
         "y": [
          16.75,
          16.90624237060547
         ]
        },
        {
         "mode": "lines",
         "showlegend": false,
         "type": "scatter",
         "x": [
          15.784282684326172,
          16
         ],
         "y": [
          16.75,
          16.90624237060547
         ]
        },
        {
         "mode": "lines",
         "showlegend": false,
         "type": "scatter",
         "x": [
          16.5,
          16.504680633544922
         ],
         "y": [
          16.50672149658203,
          16.5
         ]
        },
        {
         "mode": "lines",
         "showlegend": false,
         "type": "scatter",
         "x": [
          16.5,
          16.504680633544922
         ],
         "y": [
          16.50672149658203,
          16.5
         ]
        },
        {
         "mode": "lines",
         "showlegend": false,
         "type": "scatter",
         "x": [
          16.5,
          16.272676467895508
         ],
         "y": [
          16.50672149658203,
          16.75
         ]
        },
        {
         "mode": "lines",
         "showlegend": false,
         "type": "scatter",
         "x": [
          16.5,
          16.272676467895508
         ],
         "y": [
          16.50672149658203,
          16.75
         ]
        },
        {
         "mode": "lines",
         "showlegend": false,
         "type": "scatter",
         "x": [
          16.272676467895508,
          16.25
         ],
         "y": [
          16.75,
          16.770648956298828
         ]
        },
        {
         "mode": "lines",
         "showlegend": false,
         "type": "scatter",
         "x": [
          16.272676467895508,
          16.25
         ],
         "y": [
          16.75,
          16.770648956298828
         ]
        },
        {
         "mode": "lines",
         "showlegend": false,
         "type": "scatter",
         "x": [
          16.272676467895508,
          16.5
         ],
         "y": [
          16.75,
          16.50672149658203
         ]
        },
        {
         "mode": "lines",
         "showlegend": false,
         "type": "scatter",
         "x": [
          16.272676467895508,
          16.5
         ],
         "y": [
          16.75,
          16.50672149658203
         ]
        },
        {
         "mode": "lines",
         "showlegend": false,
         "type": "scatter",
         "x": [
          16,
          15.784282684326172
         ],
         "y": [
          16.90624237060547,
          16.75
         ]
        },
        {
         "mode": "lines",
         "showlegend": false,
         "type": "scatter",
         "x": [
          16,
          15.784282684326172
         ],
         "y": [
          16.90624237060547,
          16.75
         ]
        },
        {
         "mode": "lines",
         "showlegend": false,
         "type": "scatter",
         "x": [
          16,
          16.25
         ],
         "y": [
          16.90624237060547,
          16.770648956298828
         ]
        },
        {
         "mode": "lines",
         "showlegend": false,
         "type": "scatter",
         "x": [
          16,
          16.25
         ],
         "y": [
          16.90624237060547,
          16.770648956298828
         ]
        },
        {
         "mode": "lines",
         "showlegend": false,
         "type": "scatter",
         "x": [
          16.25,
          16.272676467895508
         ],
         "y": [
          16.770648956298828,
          16.75
         ]
        },
        {
         "mode": "lines",
         "showlegend": false,
         "type": "scatter",
         "x": [
          16.25,
          16.272676467895508
         ],
         "y": [
          16.770648956298828,
          16.75
         ]
        },
        {
         "mode": "lines",
         "showlegend": false,
         "type": "scatter",
         "x": [
          16.25,
          16
         ],
         "y": [
          16.770648956298828,
          16.90624237060547
         ]
        },
        {
         "mode": "lines",
         "showlegend": false,
         "type": "scatter",
         "x": [
          16.25,
          16
         ],
         "y": [
          16.770648956298828,
          16.90624237060547
         ]
        }
       ],
       "layout": {
        "height": 700,
        "legend": {
         "x": 0.8,
         "y": 0.9
        },
        "template": {
         "data": {
          "bar": [
           {
            "error_x": {
             "color": "#2a3f5f"
            },
            "error_y": {
             "color": "#2a3f5f"
            },
            "marker": {
             "line": {
              "color": "#E5ECF6",
              "width": 0.5
             },
             "pattern": {
              "fillmode": "overlay",
              "size": 10,
              "solidity": 0.2
             }
            },
            "type": "bar"
           }
          ],
          "barpolar": [
           {
            "marker": {
             "line": {
              "color": "#E5ECF6",
              "width": 0.5
             },
             "pattern": {
              "fillmode": "overlay",
              "size": 10,
              "solidity": 0.2
             }
            },
            "type": "barpolar"
           }
          ],
          "carpet": [
           {
            "aaxis": {
             "endlinecolor": "#2a3f5f",
             "gridcolor": "white",
             "linecolor": "white",
             "minorgridcolor": "white",
             "startlinecolor": "#2a3f5f"
            },
            "baxis": {
             "endlinecolor": "#2a3f5f",
             "gridcolor": "white",
             "linecolor": "white",
             "minorgridcolor": "white",
             "startlinecolor": "#2a3f5f"
            },
            "type": "carpet"
           }
          ],
          "choropleth": [
           {
            "colorbar": {
             "outlinewidth": 0,
             "ticks": ""
            },
            "type": "choropleth"
           }
          ],
          "contour": [
           {
            "colorbar": {
             "outlinewidth": 0,
             "ticks": ""
            },
            "colorscale": [
             [
              0,
              "#0d0887"
             ],
             [
              0.1111111111111111,
              "#46039f"
             ],
             [
              0.2222222222222222,
              "#7201a8"
             ],
             [
              0.3333333333333333,
              "#9c179e"
             ],
             [
              0.4444444444444444,
              "#bd3786"
             ],
             [
              0.5555555555555556,
              "#d8576b"
             ],
             [
              0.6666666666666666,
              "#ed7953"
             ],
             [
              0.7777777777777778,
              "#fb9f3a"
             ],
             [
              0.8888888888888888,
              "#fdca26"
             ],
             [
              1,
              "#f0f921"
             ]
            ],
            "type": "contour"
           }
          ],
          "contourcarpet": [
           {
            "colorbar": {
             "outlinewidth": 0,
             "ticks": ""
            },
            "type": "contourcarpet"
           }
          ],
          "heatmap": [
           {
            "colorbar": {
             "outlinewidth": 0,
             "ticks": ""
            },
            "colorscale": [
             [
              0,
              "#0d0887"
             ],
             [
              0.1111111111111111,
              "#46039f"
             ],
             [
              0.2222222222222222,
              "#7201a8"
             ],
             [
              0.3333333333333333,
              "#9c179e"
             ],
             [
              0.4444444444444444,
              "#bd3786"
             ],
             [
              0.5555555555555556,
              "#d8576b"
             ],
             [
              0.6666666666666666,
              "#ed7953"
             ],
             [
              0.7777777777777778,
              "#fb9f3a"
             ],
             [
              0.8888888888888888,
              "#fdca26"
             ],
             [
              1,
              "#f0f921"
             ]
            ],
            "type": "heatmap"
           }
          ],
          "heatmapgl": [
           {
            "colorbar": {
             "outlinewidth": 0,
             "ticks": ""
            },
            "colorscale": [
             [
              0,
              "#0d0887"
             ],
             [
              0.1111111111111111,
              "#46039f"
             ],
             [
              0.2222222222222222,
              "#7201a8"
             ],
             [
              0.3333333333333333,
              "#9c179e"
             ],
             [
              0.4444444444444444,
              "#bd3786"
             ],
             [
              0.5555555555555556,
              "#d8576b"
             ],
             [
              0.6666666666666666,
              "#ed7953"
             ],
             [
              0.7777777777777778,
              "#fb9f3a"
             ],
             [
              0.8888888888888888,
              "#fdca26"
             ],
             [
              1,
              "#f0f921"
             ]
            ],
            "type": "heatmapgl"
           }
          ],
          "histogram": [
           {
            "marker": {
             "pattern": {
              "fillmode": "overlay",
              "size": 10,
              "solidity": 0.2
             }
            },
            "type": "histogram"
           }
          ],
          "histogram2d": [
           {
            "colorbar": {
             "outlinewidth": 0,
             "ticks": ""
            },
            "colorscale": [
             [
              0,
              "#0d0887"
             ],
             [
              0.1111111111111111,
              "#46039f"
             ],
             [
              0.2222222222222222,
              "#7201a8"
             ],
             [
              0.3333333333333333,
              "#9c179e"
             ],
             [
              0.4444444444444444,
              "#bd3786"
             ],
             [
              0.5555555555555556,
              "#d8576b"
             ],
             [
              0.6666666666666666,
              "#ed7953"
             ],
             [
              0.7777777777777778,
              "#fb9f3a"
             ],
             [
              0.8888888888888888,
              "#fdca26"
             ],
             [
              1,
              "#f0f921"
             ]
            ],
            "type": "histogram2d"
           }
          ],
          "histogram2dcontour": [
           {
            "colorbar": {
             "outlinewidth": 0,
             "ticks": ""
            },
            "colorscale": [
             [
              0,
              "#0d0887"
             ],
             [
              0.1111111111111111,
              "#46039f"
             ],
             [
              0.2222222222222222,
              "#7201a8"
             ],
             [
              0.3333333333333333,
              "#9c179e"
             ],
             [
              0.4444444444444444,
              "#bd3786"
             ],
             [
              0.5555555555555556,
              "#d8576b"
             ],
             [
              0.6666666666666666,
              "#ed7953"
             ],
             [
              0.7777777777777778,
              "#fb9f3a"
             ],
             [
              0.8888888888888888,
              "#fdca26"
             ],
             [
              1,
              "#f0f921"
             ]
            ],
            "type": "histogram2dcontour"
           }
          ],
          "mesh3d": [
           {
            "colorbar": {
             "outlinewidth": 0,
             "ticks": ""
            },
            "type": "mesh3d"
           }
          ],
          "parcoords": [
           {
            "line": {
             "colorbar": {
              "outlinewidth": 0,
              "ticks": ""
             }
            },
            "type": "parcoords"
           }
          ],
          "pie": [
           {
            "automargin": true,
            "type": "pie"
           }
          ],
          "scatter": [
           {
            "fillpattern": {
             "fillmode": "overlay",
             "size": 10,
             "solidity": 0.2
            },
            "type": "scatter"
           }
          ],
          "scatter3d": [
           {
            "line": {
             "colorbar": {
              "outlinewidth": 0,
              "ticks": ""
             }
            },
            "marker": {
             "colorbar": {
              "outlinewidth": 0,
              "ticks": ""
             }
            },
            "type": "scatter3d"
           }
          ],
          "scattercarpet": [
           {
            "marker": {
             "colorbar": {
              "outlinewidth": 0,
              "ticks": ""
             }
            },
            "type": "scattercarpet"
           }
          ],
          "scattergeo": [
           {
            "marker": {
             "colorbar": {
              "outlinewidth": 0,
              "ticks": ""
             }
            },
            "type": "scattergeo"
           }
          ],
          "scattergl": [
           {
            "marker": {
             "colorbar": {
              "outlinewidth": 0,
              "ticks": ""
             }
            },
            "type": "scattergl"
           }
          ],
          "scattermapbox": [
           {
            "marker": {
             "colorbar": {
              "outlinewidth": 0,
              "ticks": ""
             }
            },
            "type": "scattermapbox"
           }
          ],
          "scatterpolar": [
           {
            "marker": {
             "colorbar": {
              "outlinewidth": 0,
              "ticks": ""
             }
            },
            "type": "scatterpolar"
           }
          ],
          "scatterpolargl": [
           {
            "marker": {
             "colorbar": {
              "outlinewidth": 0,
              "ticks": ""
             }
            },
            "type": "scatterpolargl"
           }
          ],
          "scatterternary": [
           {
            "marker": {
             "colorbar": {
              "outlinewidth": 0,
              "ticks": ""
             }
            },
            "type": "scatterternary"
           }
          ],
          "surface": [
           {
            "colorbar": {
             "outlinewidth": 0,
             "ticks": ""
            },
            "colorscale": [
             [
              0,
              "#0d0887"
             ],
             [
              0.1111111111111111,
              "#46039f"
             ],
             [
              0.2222222222222222,
              "#7201a8"
             ],
             [
              0.3333333333333333,
              "#9c179e"
             ],
             [
              0.4444444444444444,
              "#bd3786"
             ],
             [
              0.5555555555555556,
              "#d8576b"
             ],
             [
              0.6666666666666666,
              "#ed7953"
             ],
             [
              0.7777777777777778,
              "#fb9f3a"
             ],
             [
              0.8888888888888888,
              "#fdca26"
             ],
             [
              1,
              "#f0f921"
             ]
            ],
            "type": "surface"
           }
          ],
          "table": [
           {
            "cells": {
             "fill": {
              "color": "#EBF0F8"
             },
             "line": {
              "color": "white"
             }
            },
            "header": {
             "fill": {
              "color": "#C8D4E3"
             },
             "line": {
              "color": "white"
             }
            },
            "type": "table"
           }
          ]
         },
         "layout": {
          "annotationdefaults": {
           "arrowcolor": "#2a3f5f",
           "arrowhead": 0,
           "arrowwidth": 1
          },
          "autotypenumbers": "strict",
          "coloraxis": {
           "colorbar": {
            "outlinewidth": 0,
            "ticks": ""
           }
          },
          "colorscale": {
           "diverging": [
            [
             0,
             "#8e0152"
            ],
            [
             0.1,
             "#c51b7d"
            ],
            [
             0.2,
             "#de77ae"
            ],
            [
             0.3,
             "#f1b6da"
            ],
            [
             0.4,
             "#fde0ef"
            ],
            [
             0.5,
             "#f7f7f7"
            ],
            [
             0.6,
             "#e6f5d0"
            ],
            [
             0.7,
             "#b8e186"
            ],
            [
             0.8,
             "#7fbc41"
            ],
            [
             0.9,
             "#4d9221"
            ],
            [
             1,
             "#276419"
            ]
           ],
           "sequential": [
            [
             0,
             "#0d0887"
            ],
            [
             0.1111111111111111,
             "#46039f"
            ],
            [
             0.2222222222222222,
             "#7201a8"
            ],
            [
             0.3333333333333333,
             "#9c179e"
            ],
            [
             0.4444444444444444,
             "#bd3786"
            ],
            [
             0.5555555555555556,
             "#d8576b"
            ],
            [
             0.6666666666666666,
             "#ed7953"
            ],
            [
             0.7777777777777778,
             "#fb9f3a"
            ],
            [
             0.8888888888888888,
             "#fdca26"
            ],
            [
             1,
             "#f0f921"
            ]
           ],
           "sequentialminus": [
            [
             0,
             "#0d0887"
            ],
            [
             0.1111111111111111,
             "#46039f"
            ],
            [
             0.2222222222222222,
             "#7201a8"
            ],
            [
             0.3333333333333333,
             "#9c179e"
            ],
            [
             0.4444444444444444,
             "#bd3786"
            ],
            [
             0.5555555555555556,
             "#d8576b"
            ],
            [
             0.6666666666666666,
             "#ed7953"
            ],
            [
             0.7777777777777778,
             "#fb9f3a"
            ],
            [
             0.8888888888888888,
             "#fdca26"
            ],
            [
             1,
             "#f0f921"
            ]
           ]
          },
          "colorway": [
           "#636efa",
           "#EF553B",
           "#00cc96",
           "#ab63fa",
           "#FFA15A",
           "#19d3f3",
           "#FF6692",
           "#B6E880",
           "#FF97FF",
           "#FECB52"
          ],
          "font": {
           "color": "#2a3f5f"
          },
          "geo": {
           "bgcolor": "white",
           "lakecolor": "white",
           "landcolor": "#E5ECF6",
           "showlakes": true,
           "showland": true,
           "subunitcolor": "white"
          },
          "hoverlabel": {
           "align": "left"
          },
          "hovermode": "closest",
          "mapbox": {
           "style": "light"
          },
          "paper_bgcolor": "white",
          "plot_bgcolor": "#E5ECF6",
          "polar": {
           "angularaxis": {
            "gridcolor": "white",
            "linecolor": "white",
            "ticks": ""
           },
           "bgcolor": "#E5ECF6",
           "radialaxis": {
            "gridcolor": "white",
            "linecolor": "white",
            "ticks": ""
           }
          },
          "scene": {
           "xaxis": {
            "backgroundcolor": "#E5ECF6",
            "gridcolor": "white",
            "gridwidth": 2,
            "linecolor": "white",
            "showbackground": true,
            "ticks": "",
            "zerolinecolor": "white"
           },
           "yaxis": {
            "backgroundcolor": "#E5ECF6",
            "gridcolor": "white",
            "gridwidth": 2,
            "linecolor": "white",
            "showbackground": true,
            "ticks": "",
            "zerolinecolor": "white"
           },
           "zaxis": {
            "backgroundcolor": "#E5ECF6",
            "gridcolor": "white",
            "gridwidth": 2,
            "linecolor": "white",
            "showbackground": true,
            "ticks": "",
            "zerolinecolor": "white"
           }
          },
          "shapedefaults": {
           "line": {
            "color": "#2a3f5f"
           }
          },
          "ternary": {
           "aaxis": {
            "gridcolor": "white",
            "linecolor": "white",
            "ticks": ""
           },
           "baxis": {
            "gridcolor": "white",
            "linecolor": "white",
            "ticks": ""
           },
           "bgcolor": "#E5ECF6",
           "caxis": {
            "gridcolor": "white",
            "linecolor": "white",
            "ticks": ""
           }
          },
          "title": {
           "x": 0.05
          },
          "xaxis": {
           "automargin": true,
           "gridcolor": "white",
           "linecolor": "white",
           "ticks": "",
           "title": {
            "standoff": 15
           },
           "zerolinecolor": "white",
           "zerolinewidth": 2
          },
          "yaxis": {
           "automargin": true,
           "gridcolor": "white",
           "linecolor": "white",
           "ticks": "",
           "title": {
            "standoff": 15
           },
           "zerolinecolor": "white",
           "zerolinewidth": 2
          }
         }
        },
        "title": {
         "text": "Consecutive segments"
        },
        "width": 700
       }
      }
     },
     "metadata": {},
     "output_type": "display_data"
    }
   ],
   "source": [
    "# first define the extractor\n",
    "ext = SegThroughMeanExt(data=data)\n",
    "\n",
    "# get the consecutive segments in the data\n",
    "segments = ext.get_consecutive_segments()\n",
    "\n",
    "# ----------------------------- plot -----------------------------\n",
    "fig = go.Figure()\n",
    "fig.add_trace(\n",
    "    go.Scatter(\n",
    "        x=[mean_point[0]],\n",
    "        y=[mean_point[1]],\n",
    "        mode=\"markers\",\n",
    "        name=\"mean\",\n",
    "        marker=mean_marker,\n",
    "    )\n",
    ")\n",
    "for segment in segments:\n",
    "    fig.add_trace(\n",
    "        go.Scatter(\n",
    "            x=[segment[0][0], segment[1][0]],\n",
    "            y=[segment[0][1], segment[1][1]],\n",
    "            showlegend=False,\n",
    "            mode=\"lines\",\n",
    "        )\n",
    "    )\n",
    "    fig.add_trace(\n",
    "        go.Scatter(\n",
    "            x=[segment[0][0], segment[1][0]],\n",
    "            y=[segment[0][1], segment[1][1]],\n",
    "            mode=\"lines\",\n",
    "            showlegend=False,\n",
    "        )\n",
    "    )\n",
    "\n",
    "fig.update_layout(title=\"Consecutive segments\", **layout)\n",
    "fig.show()"
   ]
  },
  {
   "attachments": {},
   "cell_type": "markdown",
   "metadata": {},
   "source": [
    "### Get all the segments through the mean and extract the longest one"
   ]
  },
  {
   "cell_type": "code",
   "execution_count": 4,
   "metadata": {},
   "outputs": [
    {
     "name": "stdout",
     "output_type": "stream",
     "text": [
      "The length of the longest segment is 2.0611 mm\n"
     ]
    },
    {
     "data": {
      "application/vnd.plotly.v1+json": {
       "config": {
        "plotlyServerURL": "https://plot.ly"
       },
       "data": [
        {
         "mode": "lines",
         "showlegend": false,
         "type": "scatter",
         "x": [
          16.52136993408203,
          15.491388320922852
         ],
         "y": [
          16.46835708618164,
          15
         ]
        },
        {
         "mode": "lines",
         "showlegend": false,
         "type": "scatter",
         "x": [
          15.5,
          16.51616859436035
         ],
         "y": [
          14.99177360534668,
          16.478219985961914
         ]
        },
        {
         "mode": "lines",
         "showlegend": false,
         "type": "scatter",
         "x": [
          15.541589736938477,
          16.501953125
         ],
         "y": [
          15,
          16.50391387939453
         ]
        },
        {
         "mode": "lines",
         "showlegend": false,
         "type": "scatter",
         "x": [
          15.149332046508789,
          16.680452346801758
         ],
         "y": [
          15.25,
          16.180809020996094
         ]
        },
        {
         "mode": "lines",
         "showlegend": false,
         "type": "scatter",
         "x": [
          15.25,
          16.619718551635742
         ],
         "y": [
          15.116599082946777,
          16.28187370300293
         ]
        },
        {
         "mode": "lines",
         "showlegend": false,
         "type": "scatter",
         "x": [
          16.37753677368164,
          15.749999046325684
         ],
         "y": [
          16.637784957885742,
          15.022523880004883
         ]
        },
        {
         "mode": "lines",
         "showlegend": false,
         "type": "scatter",
         "x": [
          16,
          16.124675750732422
         ],
         "y": [
          15.067840576171875,
          16.838623046875
         ]
        },
        {
         "mode": "lines",
         "showlegend": false,
         "type": "scatter",
         "x": [
          15.794042587280273,
          16.25
         ],
         "y": [
          16.75707244873047,
          15.058876037597656
         ]
        },
        {
         "mode": "lines",
         "showlegend": false,
         "type": "scatter",
         "x": [
          16.5,
          15.618231773376465
         ],
         "y": [
          15.04991340637207,
          16.52129364013672
         ]
        },
        {
         "mode": "lines",
         "showlegend": false,
         "type": "scatter",
         "x": [
          16.75,
          15.495098114013672
         ],
         "y": [
          15.04094123840332,
          16.40167236328125
         ]
        },
        {
         "mode": "lines",
         "showlegend": false,
         "type": "scatter",
         "x": [
          15.386216163635254,
          17
         ],
         "y": [
          16.30719566345215,
          15.072924613952637
         ]
        },
        {
         "mode": "lines",
         "showlegend": false,
         "type": "scatter",
         "x": [
          15.282885551452637,
          17.114709854125977
         ],
         "y": [
          16.19481658935547,
          15.25
         ]
        },
        {
         "mode": "lines",
         "showlegend": false,
         "type": "scatter",
         "x": [
          16.776731491088867,
          15.108451843261719
         ],
         "y": [
          16.027938842773438,
          15.5
         ]
        },
        {
         "mode": "lines",
         "showlegend": false,
         "type": "scatter",
         "x": [
          15.207842826843262,
          17.066999435424805
         ],
         "y": [
          16.046297073364258,
          15.500001907348633
         ]
        },
        {
         "mode": "lines",
         "showlegend": false,
         "type": "scatter",
         "x": [
          15.148391723632812,
          16.874011993408203
         ],
         "y": [
          15.75,
          15.842514991760254
         ]
        },
        {
         "mode": "lines",
         "showlegend": false,
         "type": "scatter",
         "x": [
          17,
          15.183524131774902
         ],
         "y": [
          15.6109619140625,
          15.969926834106445
         ]
        },
        {
         "mode": "lines",
         "showlegend": false,
         "type": "scatter",
         "x": [
          15.164018630981445,
          16.921030044555664
         ],
         "y": [
          15.847821235656738,
          15.75
         ]
        },
        {
         "mode": "lines",
         "showlegend": false,
         "type": "scatter",
         "x": [
          17.02396583557129,
          15.18832778930664
         ],
         "y": [
          15.571271896362305,
          16
         ]
        },
        {
         "mode": "lines",
         "showlegend": false,
         "type": "scatter",
         "x": [
          16.793973922729492,
          15.115533828735352
         ],
         "y": [
          16,
          15.544332504272461
         ]
        },
        {
         "mode": "lines",
         "showlegend": false,
         "type": "scatter",
         "x": [
          15.250000953674316,
          17.096635818481445
         ],
         "y": [
          16.14630889892578,
          15.344705581665039
         ]
        },
        {
         "mode": "lines",
         "showlegend": false,
         "type": "scatter",
         "x": [
          15.320296287536621,
          17.064598083496094
         ],
         "y": [
          16.25,
          15.172639846801758
         ]
        },
        {
         "mode": "lines",
         "showlegend": false,
         "type": "scatter",
         "x": [
          15.119193077087402,
          16.75
         ],
         "y": [
          15.434306144714355,
          16.071252822875977
         ]
        },
        {
         "mode": "lines",
         "showlegend": false,
         "type": "scatter",
         "x": [
          15.219839096069336,
          16.63652801513672
         ],
         "y": [
          15.15656852722168,
          16.25
         ]
        },
        {
         "mode": "lines",
         "showlegend": false,
         "type": "scatter",
         "x": [
          15.500001907348633,
          16.738624572753906
         ],
         "y": [
          16.405925750732422,
          15.041349411010742
         ]
        },
        {
         "mode": "lines",
         "showlegend": false,
         "type": "scatter",
         "x": [
          15.603344917297363,
          16.53018569946289
         ],
         "y": [
          16.5,
          15.048828125
         ]
        },
        {
         "mode": "lines",
         "showlegend": false,
         "type": "scatter",
         "x": [
          15.534767150878906,
          16.504680633544922
         ],
         "y": [
          14.998649597167969,
          16.5
         ]
        },
        {
         "mode": "lines",
         "showlegend": false,
         "type": "scatter",
         "x": [
          16.29659080505371,
          15.75
         ],
         "y": [
          15.057205200195312,
          16.709793090820312
         ]
        },
        {
         "mode": "lines",
         "showlegend": false,
         "type": "scatter",
         "x": [
          15.784282684326172,
          16.259153366088867
         ],
         "y": [
          16.75,
          15.058547973632812
         ]
        },
        {
         "mode": "lines",
         "showlegend": false,
         "type": "scatter",
         "x": [
          15.546121597290039,
          16.5
         ],
         "y": [
          15.000490188598633,
          16.50672149658203
         ]
        },
        {
         "mode": "lines",
         "showlegend": false,
         "type": "scatter",
         "x": [
          16.272676467895508,
          15.876372337341309
         ],
         "y": [
          16.75000762939453,
          15.045433044433594
         ]
        },
        {
         "mode": "lines",
         "showlegend": false,
         "type": "scatter",
         "x": [
          16.085500717163086,
          16
         ],
         "y": [
          15.06475830078125,
          16.90624237060547
         ]
        },
        {
         "mode": "lines",
         "showlegend": false,
         "type": "scatter",
         "x": [
          16.25,
          15.89847183227539
         ],
         "y": [
          16.770652770996094,
          15.049446105957031
         ]
        },
        {
         "line": {
          "color": "red",
          "width": 5
         },
         "mode": "lines",
         "name": "longest segment",
         "type": "scatter",
         "x": [
          15.282885551452637,
          17.114709854125977
         ],
         "y": [
          16.19481658935547,
          15.25
         ]
        },
        {
         "mode": "markers",
         "showlegend": false,
         "type": "scatter",
         "x": [
          15.491388320922852,
          15.5,
          15.541589736938477,
          15.149332046508789,
          15.25,
          15.75,
          16,
          16.25,
          16.5,
          16.75,
          17,
          17.114709854125977,
          15.108451843261719,
          17.067001342773438,
          15.148391723632812,
          17,
          16.921030044555664,
          15.18832778930664,
          16.793973922729492,
          15.25,
          15.320296287536621,
          16.75,
          16.63652801513672,
          15.5,
          15.603344917297363,
          16.504680633544922,
          15.75,
          15.784282684326172,
          16.5,
          16.272676467895508,
          16,
          16.25
         ],
         "y": [
          15,
          14.99177360534668,
          15,
          15.25,
          15.116599082946777,
          15.0225248336792,
          15.067845344543457,
          15.05887508392334,
          15.049910545349121,
          15.040940284729004,
          15.072924613952637,
          15.25,
          15.5,
          15.5,
          15.75,
          15.610962867736816,
          15.75,
          16,
          16,
          16.14630889892578,
          16.25,
          16.071252822875977,
          16.25,
          16.405925750732422,
          16.5,
          16.5,
          16.709793090820312,
          16.75,
          16.50672149658203,
          16.75,
          16.90624237060547,
          16.770648956298828
         ]
        },
        {
         "marker": {
          "color": "red",
          "size": 10
         },
         "mode": "markers",
         "name": "mean",
         "type": "scatter",
         "x": [
          16.051437377929688
         ],
         "y": [
          15.79841423034668
         ]
        }
       ],
       "layout": {
        "height": 700,
        "legend": {
         "x": 0.8,
         "y": 0.9
        },
        "template": {
         "data": {
          "bar": [
           {
            "error_x": {
             "color": "#2a3f5f"
            },
            "error_y": {
             "color": "#2a3f5f"
            },
            "marker": {
             "line": {
              "color": "#E5ECF6",
              "width": 0.5
             },
             "pattern": {
              "fillmode": "overlay",
              "size": 10,
              "solidity": 0.2
             }
            },
            "type": "bar"
           }
          ],
          "barpolar": [
           {
            "marker": {
             "line": {
              "color": "#E5ECF6",
              "width": 0.5
             },
             "pattern": {
              "fillmode": "overlay",
              "size": 10,
              "solidity": 0.2
             }
            },
            "type": "barpolar"
           }
          ],
          "carpet": [
           {
            "aaxis": {
             "endlinecolor": "#2a3f5f",
             "gridcolor": "white",
             "linecolor": "white",
             "minorgridcolor": "white",
             "startlinecolor": "#2a3f5f"
            },
            "baxis": {
             "endlinecolor": "#2a3f5f",
             "gridcolor": "white",
             "linecolor": "white",
             "minorgridcolor": "white",
             "startlinecolor": "#2a3f5f"
            },
            "type": "carpet"
           }
          ],
          "choropleth": [
           {
            "colorbar": {
             "outlinewidth": 0,
             "ticks": ""
            },
            "type": "choropleth"
           }
          ],
          "contour": [
           {
            "colorbar": {
             "outlinewidth": 0,
             "ticks": ""
            },
            "colorscale": [
             [
              0,
              "#0d0887"
             ],
             [
              0.1111111111111111,
              "#46039f"
             ],
             [
              0.2222222222222222,
              "#7201a8"
             ],
             [
              0.3333333333333333,
              "#9c179e"
             ],
             [
              0.4444444444444444,
              "#bd3786"
             ],
             [
              0.5555555555555556,
              "#d8576b"
             ],
             [
              0.6666666666666666,
              "#ed7953"
             ],
             [
              0.7777777777777778,
              "#fb9f3a"
             ],
             [
              0.8888888888888888,
              "#fdca26"
             ],
             [
              1,
              "#f0f921"
             ]
            ],
            "type": "contour"
           }
          ],
          "contourcarpet": [
           {
            "colorbar": {
             "outlinewidth": 0,
             "ticks": ""
            },
            "type": "contourcarpet"
           }
          ],
          "heatmap": [
           {
            "colorbar": {
             "outlinewidth": 0,
             "ticks": ""
            },
            "colorscale": [
             [
              0,
              "#0d0887"
             ],
             [
              0.1111111111111111,
              "#46039f"
             ],
             [
              0.2222222222222222,
              "#7201a8"
             ],
             [
              0.3333333333333333,
              "#9c179e"
             ],
             [
              0.4444444444444444,
              "#bd3786"
             ],
             [
              0.5555555555555556,
              "#d8576b"
             ],
             [
              0.6666666666666666,
              "#ed7953"
             ],
             [
              0.7777777777777778,
              "#fb9f3a"
             ],
             [
              0.8888888888888888,
              "#fdca26"
             ],
             [
              1,
              "#f0f921"
             ]
            ],
            "type": "heatmap"
           }
          ],
          "heatmapgl": [
           {
            "colorbar": {
             "outlinewidth": 0,
             "ticks": ""
            },
            "colorscale": [
             [
              0,
              "#0d0887"
             ],
             [
              0.1111111111111111,
              "#46039f"
             ],
             [
              0.2222222222222222,
              "#7201a8"
             ],
             [
              0.3333333333333333,
              "#9c179e"
             ],
             [
              0.4444444444444444,
              "#bd3786"
             ],
             [
              0.5555555555555556,
              "#d8576b"
             ],
             [
              0.6666666666666666,
              "#ed7953"
             ],
             [
              0.7777777777777778,
              "#fb9f3a"
             ],
             [
              0.8888888888888888,
              "#fdca26"
             ],
             [
              1,
              "#f0f921"
             ]
            ],
            "type": "heatmapgl"
           }
          ],
          "histogram": [
           {
            "marker": {
             "pattern": {
              "fillmode": "overlay",
              "size": 10,
              "solidity": 0.2
             }
            },
            "type": "histogram"
           }
          ],
          "histogram2d": [
           {
            "colorbar": {
             "outlinewidth": 0,
             "ticks": ""
            },
            "colorscale": [
             [
              0,
              "#0d0887"
             ],
             [
              0.1111111111111111,
              "#46039f"
             ],
             [
              0.2222222222222222,
              "#7201a8"
             ],
             [
              0.3333333333333333,
              "#9c179e"
             ],
             [
              0.4444444444444444,
              "#bd3786"
             ],
             [
              0.5555555555555556,
              "#d8576b"
             ],
             [
              0.6666666666666666,
              "#ed7953"
             ],
             [
              0.7777777777777778,
              "#fb9f3a"
             ],
             [
              0.8888888888888888,
              "#fdca26"
             ],
             [
              1,
              "#f0f921"
             ]
            ],
            "type": "histogram2d"
           }
          ],
          "histogram2dcontour": [
           {
            "colorbar": {
             "outlinewidth": 0,
             "ticks": ""
            },
            "colorscale": [
             [
              0,
              "#0d0887"
             ],
             [
              0.1111111111111111,
              "#46039f"
             ],
             [
              0.2222222222222222,
              "#7201a8"
             ],
             [
              0.3333333333333333,
              "#9c179e"
             ],
             [
              0.4444444444444444,
              "#bd3786"
             ],
             [
              0.5555555555555556,
              "#d8576b"
             ],
             [
              0.6666666666666666,
              "#ed7953"
             ],
             [
              0.7777777777777778,
              "#fb9f3a"
             ],
             [
              0.8888888888888888,
              "#fdca26"
             ],
             [
              1,
              "#f0f921"
             ]
            ],
            "type": "histogram2dcontour"
           }
          ],
          "mesh3d": [
           {
            "colorbar": {
             "outlinewidth": 0,
             "ticks": ""
            },
            "type": "mesh3d"
           }
          ],
          "parcoords": [
           {
            "line": {
             "colorbar": {
              "outlinewidth": 0,
              "ticks": ""
             }
            },
            "type": "parcoords"
           }
          ],
          "pie": [
           {
            "automargin": true,
            "type": "pie"
           }
          ],
          "scatter": [
           {
            "fillpattern": {
             "fillmode": "overlay",
             "size": 10,
             "solidity": 0.2
            },
            "type": "scatter"
           }
          ],
          "scatter3d": [
           {
            "line": {
             "colorbar": {
              "outlinewidth": 0,
              "ticks": ""
             }
            },
            "marker": {
             "colorbar": {
              "outlinewidth": 0,
              "ticks": ""
             }
            },
            "type": "scatter3d"
           }
          ],
          "scattercarpet": [
           {
            "marker": {
             "colorbar": {
              "outlinewidth": 0,
              "ticks": ""
             }
            },
            "type": "scattercarpet"
           }
          ],
          "scattergeo": [
           {
            "marker": {
             "colorbar": {
              "outlinewidth": 0,
              "ticks": ""
             }
            },
            "type": "scattergeo"
           }
          ],
          "scattergl": [
           {
            "marker": {
             "colorbar": {
              "outlinewidth": 0,
              "ticks": ""
             }
            },
            "type": "scattergl"
           }
          ],
          "scattermapbox": [
           {
            "marker": {
             "colorbar": {
              "outlinewidth": 0,
              "ticks": ""
             }
            },
            "type": "scattermapbox"
           }
          ],
          "scatterpolar": [
           {
            "marker": {
             "colorbar": {
              "outlinewidth": 0,
              "ticks": ""
             }
            },
            "type": "scatterpolar"
           }
          ],
          "scatterpolargl": [
           {
            "marker": {
             "colorbar": {
              "outlinewidth": 0,
              "ticks": ""
             }
            },
            "type": "scatterpolargl"
           }
          ],
          "scatterternary": [
           {
            "marker": {
             "colorbar": {
              "outlinewidth": 0,
              "ticks": ""
             }
            },
            "type": "scatterternary"
           }
          ],
          "surface": [
           {
            "colorbar": {
             "outlinewidth": 0,
             "ticks": ""
            },
            "colorscale": [
             [
              0,
              "#0d0887"
             ],
             [
              0.1111111111111111,
              "#46039f"
             ],
             [
              0.2222222222222222,
              "#7201a8"
             ],
             [
              0.3333333333333333,
              "#9c179e"
             ],
             [
              0.4444444444444444,
              "#bd3786"
             ],
             [
              0.5555555555555556,
              "#d8576b"
             ],
             [
              0.6666666666666666,
              "#ed7953"
             ],
             [
              0.7777777777777778,
              "#fb9f3a"
             ],
             [
              0.8888888888888888,
              "#fdca26"
             ],
             [
              1,
              "#f0f921"
             ]
            ],
            "type": "surface"
           }
          ],
          "table": [
           {
            "cells": {
             "fill": {
              "color": "#EBF0F8"
             },
             "line": {
              "color": "white"
             }
            },
            "header": {
             "fill": {
              "color": "#C8D4E3"
             },
             "line": {
              "color": "white"
             }
            },
            "type": "table"
           }
          ]
         },
         "layout": {
          "annotationdefaults": {
           "arrowcolor": "#2a3f5f",
           "arrowhead": 0,
           "arrowwidth": 1
          },
          "autotypenumbers": "strict",
          "coloraxis": {
           "colorbar": {
            "outlinewidth": 0,
            "ticks": ""
           }
          },
          "colorscale": {
           "diverging": [
            [
             0,
             "#8e0152"
            ],
            [
             0.1,
             "#c51b7d"
            ],
            [
             0.2,
             "#de77ae"
            ],
            [
             0.3,
             "#f1b6da"
            ],
            [
             0.4,
             "#fde0ef"
            ],
            [
             0.5,
             "#f7f7f7"
            ],
            [
             0.6,
             "#e6f5d0"
            ],
            [
             0.7,
             "#b8e186"
            ],
            [
             0.8,
             "#7fbc41"
            ],
            [
             0.9,
             "#4d9221"
            ],
            [
             1,
             "#276419"
            ]
           ],
           "sequential": [
            [
             0,
             "#0d0887"
            ],
            [
             0.1111111111111111,
             "#46039f"
            ],
            [
             0.2222222222222222,
             "#7201a8"
            ],
            [
             0.3333333333333333,
             "#9c179e"
            ],
            [
             0.4444444444444444,
             "#bd3786"
            ],
            [
             0.5555555555555556,
             "#d8576b"
            ],
            [
             0.6666666666666666,
             "#ed7953"
            ],
            [
             0.7777777777777778,
             "#fb9f3a"
            ],
            [
             0.8888888888888888,
             "#fdca26"
            ],
            [
             1,
             "#f0f921"
            ]
           ],
           "sequentialminus": [
            [
             0,
             "#0d0887"
            ],
            [
             0.1111111111111111,
             "#46039f"
            ],
            [
             0.2222222222222222,
             "#7201a8"
            ],
            [
             0.3333333333333333,
             "#9c179e"
            ],
            [
             0.4444444444444444,
             "#bd3786"
            ],
            [
             0.5555555555555556,
             "#d8576b"
            ],
            [
             0.6666666666666666,
             "#ed7953"
            ],
            [
             0.7777777777777778,
             "#fb9f3a"
            ],
            [
             0.8888888888888888,
             "#fdca26"
            ],
            [
             1,
             "#f0f921"
            ]
           ]
          },
          "colorway": [
           "#636efa",
           "#EF553B",
           "#00cc96",
           "#ab63fa",
           "#FFA15A",
           "#19d3f3",
           "#FF6692",
           "#B6E880",
           "#FF97FF",
           "#FECB52"
          ],
          "font": {
           "color": "#2a3f5f"
          },
          "geo": {
           "bgcolor": "white",
           "lakecolor": "white",
           "landcolor": "#E5ECF6",
           "showlakes": true,
           "showland": true,
           "subunitcolor": "white"
          },
          "hoverlabel": {
           "align": "left"
          },
          "hovermode": "closest",
          "mapbox": {
           "style": "light"
          },
          "paper_bgcolor": "white",
          "plot_bgcolor": "#E5ECF6",
          "polar": {
           "angularaxis": {
            "gridcolor": "white",
            "linecolor": "white",
            "ticks": ""
           },
           "bgcolor": "#E5ECF6",
           "radialaxis": {
            "gridcolor": "white",
            "linecolor": "white",
            "ticks": ""
           }
          },
          "scene": {
           "xaxis": {
            "backgroundcolor": "#E5ECF6",
            "gridcolor": "white",
            "gridwidth": 2,
            "linecolor": "white",
            "showbackground": true,
            "ticks": "",
            "zerolinecolor": "white"
           },
           "yaxis": {
            "backgroundcolor": "#E5ECF6",
            "gridcolor": "white",
            "gridwidth": 2,
            "linecolor": "white",
            "showbackground": true,
            "ticks": "",
            "zerolinecolor": "white"
           },
           "zaxis": {
            "backgroundcolor": "#E5ECF6",
            "gridcolor": "white",
            "gridwidth": 2,
            "linecolor": "white",
            "showbackground": true,
            "ticks": "",
            "zerolinecolor": "white"
           }
          },
          "shapedefaults": {
           "line": {
            "color": "#2a3f5f"
           }
          },
          "ternary": {
           "aaxis": {
            "gridcolor": "white",
            "linecolor": "white",
            "ticks": ""
           },
           "baxis": {
            "gridcolor": "white",
            "linecolor": "white",
            "ticks": ""
           },
           "bgcolor": "#E5ECF6",
           "caxis": {
            "gridcolor": "white",
            "linecolor": "white",
            "ticks": ""
           }
          },
          "title": {
           "x": 0.05
          },
          "xaxis": {
           "automargin": true,
           "gridcolor": "white",
           "linecolor": "white",
           "ticks": "",
           "title": {
            "standoff": 15
           },
           "zerolinecolor": "white",
           "zerolinewidth": 2
          },
          "yaxis": {
           "automargin": true,
           "gridcolor": "white",
           "linecolor": "white",
           "ticks": "",
           "title": {
            "standoff": 15
           },
           "zerolinecolor": "white",
           "zerolinewidth": 2
          }
         }
        },
        "title": {
         "text": "Border points, mean point, and all the segments through the mean"
        },
        "width": 700
       }
      }
     },
     "metadata": {},
     "output_type": "display_data"
    }
   ],
   "source": [
    "# get segments through mean\n",
    "all_segments_through_mean = ext.get_all_segments_through_mean(optional_points=None)\n",
    "\n",
    "# get the longest segment\n",
    "max_segment, max_length = ext.get_max_segment(all_segments_through_mean)\n",
    "print(f\"The length of the longest segment is {max_length:.4f} mm\")\n",
    "\n",
    "# ----------------------------- plot -----------------------------\n",
    "fig = go.Figure()\n",
    "\n",
    "for segment in all_segments_through_mean:\n",
    "    fig.add_trace(\n",
    "        go.Scatter(\n",
    "            x=[segment[0][0], segment[1][0]],\n",
    "            y=[segment[0][1], segment[1][1]],\n",
    "            showlegend=False,\n",
    "            mode=\"lines\",\n",
    "        )\n",
    "    )\n",
    "\n",
    "fig.add_trace(\n",
    "    go.Scatter(\n",
    "        x=[max_segment[0][0], max_segment[1][0]],\n",
    "        y=[max_segment[0][1], max_segment[1][1]],\n",
    "        mode=\"lines\",\n",
    "        name=\"longest segment\",\n",
    "        line=dict(color=\"red\", width=5),\n",
    "    )\n",
    ")\n",
    "\n",
    "fig.add_trace(go.Scatter(x=data[:, 0], y=data[:, 1], mode=\"markers\", showlegend=False))\n",
    "fig.add_trace(\n",
    "    go.Scatter(\n",
    "        x=[mean_point[0]],\n",
    "        y=[mean_point[1]],\n",
    "        mode=\"markers\",\n",
    "        marker=mean_marker,\n",
    "        name=\"mean\",\n",
    "    )\n",
    ")\n",
    "\n",
    "fig.update_layout(\n",
    "    title=\"Border points, mean point, and all the segments through the mean\", **layout\n",
    ")\n",
    "fig.show()"
   ]
  },
  {
   "attachments": {},
   "cell_type": "markdown",
   "metadata": {},
   "source": [
    "## Get more points on the border for a more precise measure"
   ]
  },
  {
   "cell_type": "code",
   "execution_count": 5,
   "metadata": {},
   "outputs": [
    {
     "name": "stdout",
     "output_type": "stream",
     "text": [
      "The length of the longest segment is 2.0611 mm\n"
     ]
    },
    {
     "data": {
      "application/vnd.plotly.v1+json": {
       "config": {
        "plotlyServerURL": "https://plot.ly"
       },
       "data": [
        {
         "mode": "lines",
         "showlegend": false,
         "type": "scatter",
         "x": [
          16.521371841430664,
          15.491388320922852
         ],
         "y": [
          16.46835708618164,
          15
         ]
        },
        {
         "mode": "lines",
         "showlegend": false,
         "type": "scatter",
         "x": [
          15.5,
          16.516170501708984
         ],
         "y": [
          14.99177360534668,
          16.478221893310547
         ]
        },
        {
         "mode": "lines",
         "showlegend": false,
         "type": "scatter",
         "x": [
          15.541589736938477,
          16.501953125
         ],
         "y": [
          15,
          16.50391387939453
         ]
        },
        {
         "mode": "lines",
         "showlegend": false,
         "type": "scatter",
         "x": [
          15.149332046508789,
          16.680452346801758
         ],
         "y": [
          15.25,
          16.180809020996094
         ]
        },
        {
         "mode": "lines",
         "showlegend": false,
         "type": "scatter",
         "x": [
          15.25,
          16.619720458984375
         ],
         "y": [
          15.116599082946777,
          16.281875610351562
         ]
        },
        {
         "mode": "lines",
         "showlegend": false,
         "type": "scatter",
         "x": [
          16.37753677368164,
          15.749999046325684
         ],
         "y": [
          16.637779235839844,
          15.02252197265625
         ]
        },
        {
         "mode": "lines",
         "showlegend": false,
         "type": "scatter",
         "x": [
          16,
          16.124675750732422
         ],
         "y": [
          15.067845344543457,
          16.838638305664062
         ]
        },
        {
         "mode": "lines",
         "showlegend": false,
         "type": "scatter",
         "x": [
          15.794042587280273,
          16.25
         ],
         "y": [
          16.757068634033203,
          15.058876037597656
         ]
        },
        {
         "mode": "lines",
         "showlegend": false,
         "type": "scatter",
         "x": [
          15.618230819702148,
          16.5
         ],
         "y": [
          16.52129364013672,
          15.049911499023438
         ]
        },
        {
         "mode": "lines",
         "showlegend": false,
         "type": "scatter",
         "x": [
          16.75,
          15.495095252990723
         ],
         "y": [
          15.040940284729004,
          16.401670455932617
         ]
        },
        {
         "mode": "lines",
         "showlegend": false,
         "type": "scatter",
         "x": [
          15.386214256286621,
          17
         ],
         "y": [
          16.30719566345215,
          15.072924613952637
         ]
        },
        {
         "mode": "lines",
         "showlegend": false,
         "type": "scatter",
         "x": [
          15.282885551452637,
          17.114709854125977
         ],
         "y": [
          16.19481658935547,
          15.25
         ]
        },
        {
         "mode": "lines",
         "showlegend": false,
         "type": "scatter",
         "x": [
          16.776731491088867,
          15.108451843261719
         ],
         "y": [
          16.027936935424805,
          15.5
         ]
        },
        {
         "mode": "lines",
         "showlegend": false,
         "type": "scatter",
         "x": [
          15.207842826843262,
          17.067001342773438
         ],
         "y": [
          16.046295166015625,
          15.5
         ]
        },
        {
         "mode": "lines",
         "showlegend": false,
         "type": "scatter",
         "x": [
          15.148393630981445,
          16.874013900756836
         ],
         "y": [
          15.75,
          15.842512130737305
         ]
        },
        {
         "mode": "lines",
         "showlegend": false,
         "type": "scatter",
         "x": [
          17.000001907348633,
          15.183524131774902
         ],
         "y": [
          15.6109619140625,
          15.969924926757812
         ]
        },
        {
         "mode": "lines",
         "showlegend": false,
         "type": "scatter",
         "x": [
          15.164018630981445,
          16.921030044555664
         ],
         "y": [
          15.847818374633789,
          15.75
         ]
        },
        {
         "mode": "lines",
         "showlegend": false,
         "type": "scatter",
         "x": [
          17.023967742919922,
          15.18832778930664
         ],
         "y": [
          15.571269989013672,
          16
         ]
        },
        {
         "mode": "lines",
         "showlegend": false,
         "type": "scatter",
         "x": [
          15.115532875061035,
          16.793973922729492
         ],
         "y": [
          15.544330596923828,
          16
         ]
        },
        {
         "mode": "lines",
         "showlegend": false,
         "type": "scatter",
         "x": [
          15.249999046325684,
          17.096637725830078
         ],
         "y": [
          16.14630889892578,
          15.344701766967773
         ]
        },
        {
         "mode": "lines",
         "showlegend": false,
         "type": "scatter",
         "x": [
          15.320296287536621,
          17.064594268798828
         ],
         "y": [
          16.25,
          15.172639846801758
         ]
        },
        {
         "mode": "lines",
         "showlegend": false,
         "type": "scatter",
         "x": [
          15.119193077087402,
          16.75
         ],
         "y": [
          15.434303283691406,
          16.071252822875977
         ]
        },
        {
         "mode": "lines",
         "showlegend": false,
         "type": "scatter",
         "x": [
          16.63652801513672,
          15.219840049743652
         ],
         "y": [
          16.25,
          15.156566619873047
         ]
        },
        {
         "mode": "lines",
         "showlegend": false,
         "type": "scatter",
         "x": [
          15.5,
          16.738622665405273
         ],
         "y": [
          16.405925750732422,
          15.041349411010742
         ]
        },
        {
         "mode": "lines",
         "showlegend": false,
         "type": "scatter",
         "x": [
          15.603344917297363,
          16.530183792114258
         ],
         "y": [
          16.5,
          15.048830032348633
         ]
        },
        {
         "mode": "lines",
         "showlegend": false,
         "type": "scatter",
         "x": [
          15.534769058227539,
          16.504680633544922
         ],
         "y": [
          14.998650550842285,
          16.5
         ]
        },
        {
         "mode": "lines",
         "showlegend": false,
         "type": "scatter",
         "x": [
          16.29659080505371,
          15.75
         ],
         "y": [
          15.057209014892578,
          16.709796905517578
         ]
        },
        {
         "mode": "lines",
         "showlegend": false,
         "type": "scatter",
         "x": [
          15.784282684326172,
          16.259151458740234
         ],
         "y": [
          16.75,
          15.058547973632812
         ]
        },
        {
         "mode": "lines",
         "showlegend": false,
         "type": "scatter",
         "x": [
          15.546123504638672,
          16.5
         ],
         "y": [
          15.00049114227295,
          16.50672149658203
         ]
        },
        {
         "mode": "lines",
         "showlegend": false,
         "type": "scatter",
         "x": [
          16.272676467895508,
          15.876372337341309
         ],
         "y": [
          16.750003814697266,
          15.045429229736328
         ]
        },
        {
         "mode": "lines",
         "showlegend": false,
         "type": "scatter",
         "x": [
          16.085500717163086,
          16
         ],
         "y": [
          15.06475830078125,
          16.90624237060547
         ]
        },
        {
         "mode": "lines",
         "showlegend": false,
         "type": "scatter",
         "x": [
          16.25,
          15.89847183227539
         ],
         "y": [
          16.770648956298828,
          15.049442291259766
         ]
        },
        {
         "mode": "lines",
         "showlegend": false,
         "type": "scatter",
         "x": [
          16.518774032592773,
          15.495694160461426
         ],
         "y": [
          16.473278045654297,
          14.99588680267334
         ]
        },
        {
         "mode": "lines",
         "showlegend": false,
         "type": "scatter",
         "x": [
          15.370694160461426,
          16.574674606323242
         ],
         "y": [
          15.058300018310547,
          16.36728286743164
         ]
        },
        {
         "mode": "lines",
         "showlegend": false,
         "type": "scatter",
         "x": [
          16.518774032592773,
          15.495694160461426
         ],
         "y": [
          16.473278045654297,
          14.99588680267334
         ]
        },
        {
         "mode": "lines",
         "showlegend": false,
         "type": "scatter",
         "x": [
          16.509410858154297,
          15.520794868469238
         ],
         "y": [
          16.49103546142578,
          14.99588680267334
         ]
        },
        {
         "mode": "lines",
         "showlegend": false,
         "type": "scatter",
         "x": [
          16.509410858154297,
          15.520794868469238
         ],
         "y": [
          16.49103546142578,
          14.99588680267334
         ]
        },
        {
         "mode": "lines",
         "showlegend": false,
         "type": "scatter",
         "x": [
          15.645794868469238,
          16.446149826049805
         ],
         "y": [
          15.011262893676758,
          16.564353942871094
         ]
        },
        {
         "mode": "lines",
         "showlegend": false,
         "type": "scatter",
         "x": [
          15.199665069580078,
          16.64917755126953
         ],
         "y": [
          15.183300018310547,
          16.23007583618164
         ]
        },
        {
         "mode": "lines",
         "showlegend": false,
         "type": "scatter",
         "x": [
          15.128891944885254,
          16.726516723632812
         ],
         "y": [
          15.375,
          16.10824966430664
         ]
        },
        {
         "mode": "lines",
         "showlegend": false,
         "type": "scatter",
         "x": [
          15.199665069580078,
          16.64917755126953
         ],
         "y": [
          15.183300018310547,
          16.23007583618164
         ]
        },
        {
         "mode": "lines",
         "showlegend": false,
         "type": "scatter",
         "x": [
          15.370694160461426,
          16.574674606323242
         ],
         "y": [
          15.058300018310547,
          16.36728286743164
         ]
        },
        {
         "mode": "lines",
         "showlegend": false,
         "type": "scatter",
         "x": [
          15.645794868469238,
          16.446149826049805
         ],
         "y": [
          15.011262893676758,
          16.564353942871094
         ]
        },
        {
         "mode": "lines",
         "showlegend": false,
         "type": "scatter",
         "x": [
          15.875,
          16.274005889892578
         ],
         "y": [
          15.045185089111328,
          16.748577117919922
         ]
        },
        {
         "mode": "lines",
         "showlegend": false,
         "type": "scatter",
         "x": [
          15.944585800170898,
          16.125001907348633
         ],
         "y": [
          16.866104125976562,
          15.0633544921875
         ]
        },
        {
         "mode": "lines",
         "showlegend": false,
         "type": "scatter",
         "x": [
          15.875,
          16.274005889892578
         ],
         "y": [
          15.045185089111328,
          16.748577117919922
         ]
        },
        {
         "mode": "lines",
         "showlegend": false,
         "type": "scatter",
         "x": [
          16.375,
          15.691492080688477
         ],
         "y": [
          15.054393768310547,
          16.626094818115234
         ]
        },
        {
         "mode": "lines",
         "showlegend": false,
         "type": "scatter",
         "x": [
          15.944585800170898,
          16.125001907348633
         ],
         "y": [
          16.866104125976562,
          15.0633544921875
         ]
        },
        {
         "mode": "lines",
         "showlegend": false,
         "type": "scatter",
         "x": [
          16.375,
          15.691492080688477
         ],
         "y": [
          15.054393768310547,
          16.626094818115234
         ]
        },
        {
         "mode": "lines",
         "showlegend": false,
         "type": "scatter",
         "x": [
          15.55237102508545,
          16.624998092651367
         ],
         "y": [
          16.45359992980957,
          15.045427322387695
         ]
        },
        {
         "mode": "lines",
         "showlegend": false,
         "type": "scatter",
         "x": [
          15.55237102508545,
          16.624998092651367
         ],
         "y": [
          16.45359992980957,
          15.045427322387695
         ]
        },
        {
         "mode": "lines",
         "showlegend": false,
         "type": "scatter",
         "x": [
          15.437198638916016,
          16.875
         ],
         "y": [
          16.35143280029297,
          15.056933403015137
         ]
        },
        {
         "mode": "lines",
         "showlegend": false,
         "type": "scatter",
         "x": [
          15.327876091003418,
          17.057353973388672
         ],
         "y": [
          16.256576538085938,
          15.161462783813477
         ]
        },
        {
         "mode": "lines",
         "showlegend": false,
         "type": "scatter",
         "x": [
          15.437198638916016,
          16.875
         ],
         "y": [
          16.35143280029297,
          15.056933403015137
         ]
        },
        {
         "mode": "lines",
         "showlegend": false,
         "type": "scatter",
         "x": [
          15.327876091003418,
          17.057353973388672
         ],
         "y": [
          16.256576538085938,
          15.161462783813477
         ]
        },
        {
         "mode": "lines",
         "showlegend": false,
         "type": "scatter",
         "x": [
          15.242290496826172,
          17.09085464477539
         ],
         "y": [
          16.128023147583008,
          15.375
         ]
        },
        {
         "mode": "lines",
         "showlegend": false,
         "type": "scatter",
         "x": [
          15.128421783447266,
          16.82277488708496
         ],
         "y": [
          15.625,
          15.943329811096191
         ]
        },
        {
         "mode": "lines",
         "showlegend": false,
         "type": "scatter",
         "x": [
          15.128891944885254,
          16.726516723632812
         ],
         "y": [
          15.375,
          16.10824966430664
         ]
        },
        {
         "mode": "lines",
         "showlegend": false,
         "type": "scatter",
         "x": [
          15.192877769470215,
          17.03350067138672
         ],
         "y": [
          16.01079559326172,
          15.55548095703125
         ]
        },
        {
         "mode": "lines",
         "showlegend": false,
         "type": "scatter",
         "x": [
          15.242290496826172,
          17.09085464477539
         ],
         "y": [
          16.128023147583008,
          15.375
         ]
        },
        {
         "mode": "lines",
         "showlegend": false,
         "type": "scatter",
         "x": [
          15.168359756469727,
          16.937162399291992
         ],
         "y": [
          15.875000953674316,
          15.721597671508789
         ]
        },
        {
         "mode": "lines",
         "showlegend": false,
         "type": "scatter",
         "x": [
          15.128421783447266,
          16.82277488708496
         ],
         "y": [
          15.625,
          15.943329811096191
         ]
        },
        {
         "mode": "lines",
         "showlegend": false,
         "type": "scatter",
         "x": [
          15.192877769470215,
          17.03350067138672
         ],
         "y": [
          16.01079559326172,
          15.55548095703125
         ]
        },
        {
         "mode": "lines",
         "showlegend": false,
         "type": "scatter",
         "x": [
          15.174304008483887,
          16.96051597595215
         ],
         "y": [
          15.912201881408691,
          15.68048095703125
         ]
        },
        {
         "mode": "lines",
         "showlegend": false,
         "type": "scatter",
         "x": [
          15.174304008483887,
          16.96051597595215
         ],
         "y": [
          15.912201881408691,
          15.68048095703125
         ]
        },
        {
         "mode": "lines",
         "showlegend": false,
         "type": "scatter",
         "x": [
          15.142326354980469,
          16.857501983642578
         ],
         "y": [
          15.712035179138184,
          15.875
         ]
        },
        {
         "mode": "lines",
         "showlegend": false,
         "type": "scatter",
         "x": [
          17.07450294494629,
          15.21916389465332
         ],
         "y": [
          15.460689544677734,
          16.07315444946289
         ]
        },
        {
         "mode": "lines",
         "showlegend": false,
         "type": "scatter",
         "x": [
          15.168359756469727,
          16.937162399291992
         ],
         "y": [
          15.875000953674316,
          15.721597671508789
         ]
        },
        {
         "mode": "lines",
         "showlegend": false,
         "type": "scatter",
         "x": [
          16.771987915039062,
          15.110316276550293
         ],
         "y": [
          16.035625457763672,
          15.488587379455566
         ]
        },
        {
         "mode": "lines",
         "showlegend": false,
         "type": "scatter",
         "x": [
          15.142326354980469,
          16.857501983642578
         ],
         "y": [
          15.712035179138184,
          15.875
         ]
        },
        {
         "mode": "lines",
         "showlegend": false,
         "type": "scatter",
         "x": [
          15.285148620605469,
          17.111682891845703
         ],
         "y": [
          16.19815444946289,
          15.245326042175293
         ]
        },
        {
         "mode": "lines",
         "showlegend": false,
         "type": "scatter",
         "x": [
          17.07450294494629,
          15.21916389465332
         ],
         "y": [
          15.460689544677734,
          16.07315444946289
         ]
        },
        {
         "mode": "lines",
         "showlegend": false,
         "type": "scatter",
         "x": [
          15.285148620605469,
          17.111682891845703
         ],
         "y": [
          16.19815444946289,
          15.245326042175293
         ]
        },
        {
         "mode": "lines",
         "showlegend": false,
         "type": "scatter",
         "x": [
          15.410148620605469,
          16.93939971923828
         ],
         "y": [
          16.32796287536621,
          15.065171241760254
         ]
        },
        {
         "mode": "lines",
         "showlegend": false,
         "type": "scatter",
         "x": [
          16.771987915039062,
          15.110316276550293
         ],
         "y": [
          16.035625457763672,
          15.488587379455566
         ]
        },
        {
         "mode": "lines",
         "showlegend": false,
         "type": "scatter",
         "x": [
          15.14344596862793,
          16.69326400756836
         ],
         "y": [
          15.285991668701172,
          16.160625457763672
         ]
        },
        {
         "mode": "lines",
         "showlegend": false,
         "type": "scatter",
         "x": [
          15.14344596862793,
          16.69326400756836
         ],
         "y": [
          15.285991668701172,
          16.160625457763672
         ]
        },
        {
         "mode": "lines",
         "showlegend": false,
         "type": "scatter",
         "x": [
          16.570606231689453,
          15.380683898925781
         ],
         "y": [
          16.375,
          15.053473472595215
         ]
        },
        {
         "mode": "lines",
         "showlegend": false,
         "type": "scatter",
         "x": [
          15.55167293548584,
          16.626399993896484
         ],
         "y": [
          16.452960968017578,
          15.045377731323242
         ]
        },
        {
         "mode": "lines",
         "showlegend": false,
         "type": "scatter",
         "x": [
          15.410148620605469,
          16.93939971923828
         ],
         "y": [
          16.32796287536621,
          15.065171241760254
         ]
        },
        {
         "mode": "lines",
         "showlegend": false,
         "type": "scatter",
         "x": [
          15.55167293548584,
          16.626399993896484
         ],
         "y": [
          16.452960968017578,
          15.045377731323242
         ]
        },
        {
         "mode": "lines",
         "showlegend": false,
         "type": "scatter",
         "x": [
          16.397552490234375,
          15.676671981811523
         ],
         "y": [
          15.053581237792969,
          16.604896545410156
         ]
        },
        {
         "mode": "lines",
         "showlegend": false,
         "type": "scatter",
         "x": [
          15.540629386901855,
          16.50234031677246
         ],
         "y": [
          14.999810218811035,
          16.503360748291016
         ]
        },
        {
         "mode": "lines",
         "showlegend": false,
         "type": "scatter",
         "x": [
          16.570606231689453,
          15.380683898925781
         ],
         "y": [
          16.375,
          15.053473472595215
         ]
        },
        {
         "mode": "lines",
         "showlegend": false,
         "type": "scatter",
         "x": [
          15.767141342163086,
          16.27745246887207
         ],
         "y": [
          16.729896545410156,
          15.05788803100586
         ]
        },
        {
         "mode": "lines",
         "showlegend": false,
         "type": "scatter",
         "x": [
          16.397552490234375,
          15.676671981811523
         ],
         "y": [
          15.053581237792969,
          16.604896545410156
         ]
        },
        {
         "mode": "lines",
         "showlegend": false,
         "type": "scatter",
         "x": [
          15.767141342163086,
          16.27745246887207
         ],
         "y": [
          16.729896545410156,
          15.05788803100586
         ]
        },
        {
         "mode": "lines",
         "showlegend": false,
         "type": "scatter",
         "x": [
          15.892141342163086,
          16.165374755859375
         ],
         "y": [
          16.828125,
          15.061912536621094
         ]
        },
        {
         "mode": "lines",
         "showlegend": false,
         "type": "scatter",
         "x": [
          15.540629386901855,
          16.50234031677246
         ],
         "y": [
          14.999810218811035,
          16.503360748291016
         ]
        },
        {
         "mode": "lines",
         "showlegend": false,
         "type": "scatter",
         "x": [
          15.737820625305176,
          16.38633918762207
         ],
         "y": [
          15.021209716796875,
          16.62836456298828
         ]
        },
        {
         "mode": "lines",
         "showlegend": false,
         "type": "scatter",
         "x": [
          16.261337280273438,
          15.887572288513184
         ],
         "y": [
          16.760318756103516,
          15.047466278076172
         ]
        },
        {
         "mode": "lines",
         "showlegend": false,
         "type": "scatter",
         "x": [
          15.737820625305176,
          16.38633918762207
         ],
         "y": [
          15.021209716796875,
          16.62836456298828
         ]
        },
        {
         "mode": "lines",
         "showlegend": false,
         "type": "scatter",
         "x": [
          15.892141342163086,
          16.165374755859375
         ],
         "y": [
          16.828125,
          15.061912536621094
         ]
        },
        {
         "mode": "lines",
         "showlegend": false,
         "type": "scatter",
         "x": [
          16.124998092651367,
          15.999759674072266
         ],
         "y": [
          16.838424682617188,
          15.067794799804688
         ]
        },
        {
         "mode": "lines",
         "showlegend": false,
         "type": "scatter",
         "x": [
          16.261337280273438,
          15.887572288513184
         ],
         "y": [
          16.760318756103516,
          15.047466278076172
         ]
        },
        {
         "mode": "lines",
         "showlegend": false,
         "type": "scatter",
         "x": [
          16.124998092651367,
          15.999759674072266
         ],
         "y": [
          16.838424682617188,
          15.067794799804688
         ]
        },
        {
         "mode": "lines",
         "showlegend": false,
         "type": "scatter",
         "x": [
          16.518774032592773,
          15.495694160461426
         ],
         "y": [
          16.473278045654297,
          14.99588680267334
         ]
        },
        {
         "mode": "lines",
         "showlegend": false,
         "type": "scatter",
         "x": [
          15.370694160461426,
          16.574674606323242
         ],
         "y": [
          15.058300018310547,
          16.36728286743164
         ]
        },
        {
         "mode": "lines",
         "showlegend": false,
         "type": "scatter",
         "x": [
          16.518774032592773,
          15.495694160461426
         ],
         "y": [
          16.473278045654297,
          14.99588680267334
         ]
        },
        {
         "mode": "lines",
         "showlegend": false,
         "type": "scatter",
         "x": [
          16.509410858154297,
          15.520794868469238
         ],
         "y": [
          16.49103546142578,
          14.99588680267334
         ]
        },
        {
         "mode": "lines",
         "showlegend": false,
         "type": "scatter",
         "x": [
          16.509410858154297,
          15.520794868469238
         ],
         "y": [
          16.49103546142578,
          14.99588680267334
         ]
        },
        {
         "mode": "lines",
         "showlegend": false,
         "type": "scatter",
         "x": [
          15.645794868469238,
          16.446149826049805
         ],
         "y": [
          15.011262893676758,
          16.564353942871094
         ]
        },
        {
         "mode": "lines",
         "showlegend": false,
         "type": "scatter",
         "x": [
          15.199665069580078,
          16.64917755126953
         ],
         "y": [
          15.183300018310547,
          16.23007583618164
         ]
        },
        {
         "mode": "lines",
         "showlegend": false,
         "type": "scatter",
         "x": [
          15.128891944885254,
          16.726516723632812
         ],
         "y": [
          15.375,
          16.10824966430664
         ]
        },
        {
         "mode": "lines",
         "showlegend": false,
         "type": "scatter",
         "x": [
          15.199665069580078,
          16.64917755126953
         ],
         "y": [
          15.183300018310547,
          16.23007583618164
         ]
        },
        {
         "mode": "lines",
         "showlegend": false,
         "type": "scatter",
         "x": [
          15.370694160461426,
          16.574674606323242
         ],
         "y": [
          15.058300018310547,
          16.36728286743164
         ]
        },
        {
         "mode": "lines",
         "showlegend": false,
         "type": "scatter",
         "x": [
          15.645794868469238,
          16.446149826049805
         ],
         "y": [
          15.011262893676758,
          16.564353942871094
         ]
        },
        {
         "mode": "lines",
         "showlegend": false,
         "type": "scatter",
         "x": [
          15.875,
          16.274005889892578
         ],
         "y": [
          15.045185089111328,
          16.748577117919922
         ]
        },
        {
         "mode": "lines",
         "showlegend": false,
         "type": "scatter",
         "x": [
          15.944585800170898,
          16.125001907348633
         ],
         "y": [
          16.866104125976562,
          15.0633544921875
         ]
        },
        {
         "mode": "lines",
         "showlegend": false,
         "type": "scatter",
         "x": [
          15.875,
          16.274005889892578
         ],
         "y": [
          15.045185089111328,
          16.748577117919922
         ]
        },
        {
         "mode": "lines",
         "showlegend": false,
         "type": "scatter",
         "x": [
          16.375,
          15.691492080688477
         ],
         "y": [
          15.054393768310547,
          16.626094818115234
         ]
        },
        {
         "mode": "lines",
         "showlegend": false,
         "type": "scatter",
         "x": [
          15.944585800170898,
          16.125001907348633
         ],
         "y": [
          16.866104125976562,
          15.0633544921875
         ]
        },
        {
         "mode": "lines",
         "showlegend": false,
         "type": "scatter",
         "x": [
          16.375,
          15.691492080688477
         ],
         "y": [
          15.054393768310547,
          16.626094818115234
         ]
        },
        {
         "mode": "lines",
         "showlegend": false,
         "type": "scatter",
         "x": [
          15.55237102508545,
          16.624998092651367
         ],
         "y": [
          16.45359992980957,
          15.045427322387695
         ]
        },
        {
         "mode": "lines",
         "showlegend": false,
         "type": "scatter",
         "x": [
          15.55237102508545,
          16.624998092651367
         ],
         "y": [
          16.45359992980957,
          15.045427322387695
         ]
        },
        {
         "mode": "lines",
         "showlegend": false,
         "type": "scatter",
         "x": [
          15.437198638916016,
          16.875
         ],
         "y": [
          16.35143280029297,
          15.056933403015137
         ]
        },
        {
         "mode": "lines",
         "showlegend": false,
         "type": "scatter",
         "x": [
          15.327876091003418,
          17.057353973388672
         ],
         "y": [
          16.256576538085938,
          15.161462783813477
         ]
        },
        {
         "mode": "lines",
         "showlegend": false,
         "type": "scatter",
         "x": [
          15.437198638916016,
          16.875
         ],
         "y": [
          16.35143280029297,
          15.056933403015137
         ]
        },
        {
         "mode": "lines",
         "showlegend": false,
         "type": "scatter",
         "x": [
          15.327876091003418,
          17.057353973388672
         ],
         "y": [
          16.256576538085938,
          15.161462783813477
         ]
        },
        {
         "mode": "lines",
         "showlegend": false,
         "type": "scatter",
         "x": [
          15.242290496826172,
          17.09085464477539
         ],
         "y": [
          16.128023147583008,
          15.375
         ]
        },
        {
         "mode": "lines",
         "showlegend": false,
         "type": "scatter",
         "x": [
          15.128421783447266,
          16.82277488708496
         ],
         "y": [
          15.625,
          15.943329811096191
         ]
        },
        {
         "mode": "lines",
         "showlegend": false,
         "type": "scatter",
         "x": [
          15.128891944885254,
          16.726516723632812
         ],
         "y": [
          15.375,
          16.10824966430664
         ]
        },
        {
         "mode": "lines",
         "showlegend": false,
         "type": "scatter",
         "x": [
          15.192877769470215,
          17.03350067138672
         ],
         "y": [
          16.01079559326172,
          15.55548095703125
         ]
        },
        {
         "mode": "lines",
         "showlegend": false,
         "type": "scatter",
         "x": [
          15.242290496826172,
          17.09085464477539
         ],
         "y": [
          16.128023147583008,
          15.375
         ]
        },
        {
         "mode": "lines",
         "showlegend": false,
         "type": "scatter",
         "x": [
          15.168359756469727,
          16.937162399291992
         ],
         "y": [
          15.875000953674316,
          15.721597671508789
         ]
        },
        {
         "mode": "lines",
         "showlegend": false,
         "type": "scatter",
         "x": [
          15.128421783447266,
          16.82277488708496
         ],
         "y": [
          15.625,
          15.943329811096191
         ]
        },
        {
         "mode": "lines",
         "showlegend": false,
         "type": "scatter",
         "x": [
          15.192877769470215,
          17.03350067138672
         ],
         "y": [
          16.01079559326172,
          15.55548095703125
         ]
        },
        {
         "mode": "lines",
         "showlegend": false,
         "type": "scatter",
         "x": [
          15.174304008483887,
          16.96051597595215
         ],
         "y": [
          15.912201881408691,
          15.68048095703125
         ]
        },
        {
         "mode": "lines",
         "showlegend": false,
         "type": "scatter",
         "x": [
          15.174304008483887,
          16.96051597595215
         ],
         "y": [
          15.912201881408691,
          15.68048095703125
         ]
        },
        {
         "mode": "lines",
         "showlegend": false,
         "type": "scatter",
         "x": [
          15.142326354980469,
          16.857501983642578
         ],
         "y": [
          15.712035179138184,
          15.875
         ]
        },
        {
         "mode": "lines",
         "showlegend": false,
         "type": "scatter",
         "x": [
          17.07450294494629,
          15.21916389465332
         ],
         "y": [
          15.460689544677734,
          16.07315444946289
         ]
        },
        {
         "mode": "lines",
         "showlegend": false,
         "type": "scatter",
         "x": [
          15.168359756469727,
          16.937162399291992
         ],
         "y": [
          15.875000953674316,
          15.721597671508789
         ]
        },
        {
         "mode": "lines",
         "showlegend": false,
         "type": "scatter",
         "x": [
          16.771987915039062,
          15.110316276550293
         ],
         "y": [
          16.035625457763672,
          15.488587379455566
         ]
        },
        {
         "mode": "lines",
         "showlegend": false,
         "type": "scatter",
         "x": [
          15.142326354980469,
          16.857501983642578
         ],
         "y": [
          15.712035179138184,
          15.875
         ]
        },
        {
         "mode": "lines",
         "showlegend": false,
         "type": "scatter",
         "x": [
          15.285148620605469,
          17.111682891845703
         ],
         "y": [
          16.19815444946289,
          15.245326042175293
         ]
        },
        {
         "mode": "lines",
         "showlegend": false,
         "type": "scatter",
         "x": [
          17.07450294494629,
          15.21916389465332
         ],
         "y": [
          15.460689544677734,
          16.07315444946289
         ]
        },
        {
         "mode": "lines",
         "showlegend": false,
         "type": "scatter",
         "x": [
          15.285148620605469,
          17.111682891845703
         ],
         "y": [
          16.19815444946289,
          15.245326042175293
         ]
        },
        {
         "mode": "lines",
         "showlegend": false,
         "type": "scatter",
         "x": [
          15.410148620605469,
          16.93939971923828
         ],
         "y": [
          16.32796287536621,
          15.065171241760254
         ]
        },
        {
         "mode": "lines",
         "showlegend": false,
         "type": "scatter",
         "x": [
          16.771987915039062,
          15.110316276550293
         ],
         "y": [
          16.035625457763672,
          15.488587379455566
         ]
        },
        {
         "mode": "lines",
         "showlegend": false,
         "type": "scatter",
         "x": [
          15.14344596862793,
          16.69326400756836
         ],
         "y": [
          15.285991668701172,
          16.160625457763672
         ]
        },
        {
         "mode": "lines",
         "showlegend": false,
         "type": "scatter",
         "x": [
          15.14344596862793,
          16.69326400756836
         ],
         "y": [
          15.285991668701172,
          16.160625457763672
         ]
        },
        {
         "mode": "lines",
         "showlegend": false,
         "type": "scatter",
         "x": [
          16.570606231689453,
          15.380683898925781
         ],
         "y": [
          16.375,
          15.053473472595215
         ]
        },
        {
         "mode": "lines",
         "showlegend": false,
         "type": "scatter",
         "x": [
          15.55167293548584,
          16.626399993896484
         ],
         "y": [
          16.452960968017578,
          15.045377731323242
         ]
        },
        {
         "mode": "lines",
         "showlegend": false,
         "type": "scatter",
         "x": [
          15.410148620605469,
          16.93939971923828
         ],
         "y": [
          16.32796287536621,
          15.065171241760254
         ]
        },
        {
         "mode": "lines",
         "showlegend": false,
         "type": "scatter",
         "x": [
          15.55167293548584,
          16.626399993896484
         ],
         "y": [
          16.452960968017578,
          15.045377731323242
         ]
        },
        {
         "mode": "lines",
         "showlegend": false,
         "type": "scatter",
         "x": [
          16.397552490234375,
          15.676671981811523
         ],
         "y": [
          15.053581237792969,
          16.604896545410156
         ]
        },
        {
         "mode": "lines",
         "showlegend": false,
         "type": "scatter",
         "x": [
          15.540629386901855,
          16.50234031677246
         ],
         "y": [
          14.999810218811035,
          16.503360748291016
         ]
        },
        {
         "mode": "lines",
         "showlegend": false,
         "type": "scatter",
         "x": [
          16.570606231689453,
          15.380683898925781
         ],
         "y": [
          16.375,
          15.053473472595215
         ]
        },
        {
         "mode": "lines",
         "showlegend": false,
         "type": "scatter",
         "x": [
          15.767141342163086,
          16.27745246887207
         ],
         "y": [
          16.729896545410156,
          15.05788803100586
         ]
        },
        {
         "mode": "lines",
         "showlegend": false,
         "type": "scatter",
         "x": [
          16.397552490234375,
          15.676671981811523
         ],
         "y": [
          15.053581237792969,
          16.604896545410156
         ]
        },
        {
         "mode": "lines",
         "showlegend": false,
         "type": "scatter",
         "x": [
          15.767141342163086,
          16.27745246887207
         ],
         "y": [
          16.729896545410156,
          15.05788803100586
         ]
        },
        {
         "mode": "lines",
         "showlegend": false,
         "type": "scatter",
         "x": [
          15.892141342163086,
          16.165374755859375
         ],
         "y": [
          16.828125,
          15.061912536621094
         ]
        },
        {
         "mode": "lines",
         "showlegend": false,
         "type": "scatter",
         "x": [
          15.540629386901855,
          16.50234031677246
         ],
         "y": [
          14.999810218811035,
          16.503360748291016
         ]
        },
        {
         "mode": "lines",
         "showlegend": false,
         "type": "scatter",
         "x": [
          15.737820625305176,
          16.38633918762207
         ],
         "y": [
          15.021209716796875,
          16.62836456298828
         ]
        },
        {
         "mode": "lines",
         "showlegend": false,
         "type": "scatter",
         "x": [
          16.261337280273438,
          15.887572288513184
         ],
         "y": [
          16.760318756103516,
          15.047466278076172
         ]
        },
        {
         "mode": "lines",
         "showlegend": false,
         "type": "scatter",
         "x": [
          15.737820625305176,
          16.38633918762207
         ],
         "y": [
          15.021209716796875,
          16.62836456298828
         ]
        },
        {
         "mode": "lines",
         "showlegend": false,
         "type": "scatter",
         "x": [
          15.892141342163086,
          16.165374755859375
         ],
         "y": [
          16.828125,
          15.061912536621094
         ]
        },
        {
         "mode": "lines",
         "showlegend": false,
         "type": "scatter",
         "x": [
          16.124998092651367,
          15.999759674072266
         ],
         "y": [
          16.838424682617188,
          15.067794799804688
         ]
        },
        {
         "mode": "lines",
         "showlegend": false,
         "type": "scatter",
         "x": [
          16.261337280273438,
          15.887572288513184
         ],
         "y": [
          16.760318756103516,
          15.047466278076172
         ]
        },
        {
         "mode": "lines",
         "showlegend": false,
         "type": "scatter",
         "x": [
          16.124998092651367,
          15.999759674072266
         ],
         "y": [
          16.838424682617188,
          15.067794799804688
         ]
        },
        {
         "line": {
          "color": "red",
          "width": 5
         },
         "mode": "lines",
         "name": "longest segment",
         "type": "scatter",
         "x": [
          15.282885551452637,
          17.114709854125977
         ],
         "y": [
          16.19481658935547,
          15.25
         ]
        },
        {
         "mode": "markers",
         "showlegend": false,
         "type": "scatter",
         "x": [
          15.491388320922852,
          15.5,
          15.541589736938477,
          15.149332046508789,
          15.25,
          15.75,
          16,
          16.25,
          16.5,
          16.75,
          17,
          17.114709854125977,
          15.108451843261719,
          17.067001342773438,
          15.148391723632812,
          17,
          16.921030044555664,
          15.18832778930664,
          16.793973922729492,
          15.25,
          15.320296287536621,
          16.75,
          16.63652801513672,
          15.5,
          15.603344917297363,
          16.504680633544922,
          15.75,
          15.784282684326172,
          16.5,
          16.272676467895508,
          16,
          16.25,
          15.495694160461426,
          15.370694160461426,
          15.495694160461426,
          15.520794868469238,
          15.520794868469238,
          15.645794868469238,
          15.199666023254395,
          15.128891944885254,
          15.199666023254395,
          15.370694160461426,
          15.645794868469238,
          15.875,
          16.125,
          15.875,
          16.375,
          16.125,
          16.375,
          16.625,
          16.625,
          16.875,
          17.057353973388672,
          16.875,
          17.057353973388672,
          17.09085464477539,
          15.128421783447266,
          15.128891944885254,
          17.03350067138672,
          17.09085464477539,
          15.168359756469727,
          15.128421783447266,
          17.03350067138672,
          16.960514068603516,
          16.960514068603516,
          16.857501983642578,
          15.21916389465332,
          15.168359756469727,
          16.771987915039062,
          16.857501983642578,
          15.285148620605469,
          15.21916389465332,
          15.285148620605469,
          15.410148620605469,
          16.771987915039062,
          16.69326400756836,
          16.69326400756836,
          16.57060432434082,
          15.551671981811523,
          15.410148620605469,
          15.551671981811523,
          15.676671981811523,
          16.50234031677246,
          16.57060432434082,
          15.767141342163086,
          15.676671981811523,
          15.767141342163086,
          15.892141342163086,
          16.50234031677246,
          16.386337280273438,
          16.261337280273438,
          16.386337280273438,
          15.892141342163086,
          16.125,
          16.261337280273438,
          16.125,
          15.495694160461426,
          15.370694160461426,
          15.495694160461426,
          15.520794868469238,
          15.520794868469238,
          15.645794868469238,
          15.199666023254395,
          15.128891944885254,
          15.199666023254395,
          15.370694160461426,
          15.645794868469238,
          15.875,
          16.125,
          15.875,
          16.375,
          16.125,
          16.375,
          16.625,
          16.625,
          16.875,
          17.057353973388672,
          16.875,
          17.057353973388672,
          17.09085464477539,
          15.128421783447266,
          15.128891944885254,
          17.03350067138672,
          17.09085464477539,
          15.168359756469727,
          15.128421783447266,
          17.03350067138672,
          16.960514068603516,
          16.960514068603516,
          16.857501983642578,
          15.21916389465332,
          15.168359756469727,
          16.771987915039062,
          16.857501983642578,
          15.285148620605469,
          15.21916389465332,
          15.285148620605469,
          15.410148620605469,
          16.771987915039062,
          16.69326400756836,
          16.69326400756836,
          16.57060432434082,
          15.551671981811523,
          15.410148620605469,
          15.551671981811523,
          15.676671981811523,
          16.50234031677246,
          16.57060432434082,
          15.767141342163086,
          15.676671981811523,
          15.767141342163086,
          15.892141342163086,
          16.50234031677246,
          16.386337280273438,
          16.261337280273438,
          16.386337280273438,
          15.892141342163086,
          16.125,
          16.261337280273438,
          16.125
         ],
         "y": [
          15,
          14.99177360534668,
          15,
          15.25,
          15.116599082946777,
          15.0225248336792,
          15.067845344543457,
          15.05887508392334,
          15.049910545349121,
          15.040940284729004,
          15.072924613952637,
          15.25,
          15.5,
          15.5,
          15.75,
          15.610962867736816,
          15.75,
          16,
          16,
          16.14630889892578,
          16.25,
          16.071252822875977,
          16.25,
          16.405925750732422,
          16.5,
          16.5,
          16.709793090820312,
          16.75,
          16.50672149658203,
          16.75,
          16.90624237060547,
          16.770648956298828,
          14.99588680267334,
          15.058300018310547,
          14.99588680267334,
          14.99588680267334,
          14.99588680267334,
          15.011262893676758,
          15.183300018310547,
          15.375,
          15.183300018310547,
          15.058300018310547,
          15.011262893676758,
          15.045185089111328,
          15.063360214233398,
          15.045185089111328,
          15.05439281463623,
          15.063360214233398,
          15.05439281463623,
          15.045425415039062,
          15.045425415039062,
          15.05693244934082,
          15.161462783813477,
          15.05693244934082,
          15.161462783813477,
          15.375,
          15.625,
          15.375,
          15.55548095703125,
          15.375,
          15.875,
          15.625,
          15.55548095703125,
          15.68048095703125,
          15.68048095703125,
          15.875,
          16.07315444946289,
          15.875,
          16.035625457763672,
          15.875,
          16.19815444946289,
          16.07315444946289,
          16.19815444946289,
          16.32796287536621,
          16.035625457763672,
          16.160625457763672,
          16.160625457763672,
          16.375,
          16.45296287536621,
          16.32796287536621,
          16.45296287536621,
          16.604896545410156,
          16.503360748291016,
          16.375,
          16.729896545410156,
          16.604896545410156,
          16.729896545410156,
          16.828121185302734,
          16.503360748291016,
          16.628360748291016,
          16.760324478149414,
          16.628360748291016,
          16.828121185302734,
          16.83844566345215,
          16.760324478149414,
          16.83844566345215,
          14.99588680267334,
          15.058300018310547,
          14.99588680267334,
          14.99588680267334,
          14.99588680267334,
          15.011262893676758,
          15.183300018310547,
          15.375,
          15.183300018310547,
          15.058300018310547,
          15.011262893676758,
          15.045185089111328,
          15.063360214233398,
          15.045185089111328,
          15.05439281463623,
          15.063360214233398,
          15.05439281463623,
          15.045425415039062,
          15.045425415039062,
          15.05693244934082,
          15.161462783813477,
          15.05693244934082,
          15.161462783813477,
          15.375,
          15.625,
          15.375,
          15.55548095703125,
          15.375,
          15.875,
          15.625,
          15.55548095703125,
          15.68048095703125,
          15.68048095703125,
          15.875,
          16.07315444946289,
          15.875,
          16.035625457763672,
          15.875,
          16.19815444946289,
          16.07315444946289,
          16.19815444946289,
          16.32796287536621,
          16.035625457763672,
          16.160625457763672,
          16.160625457763672,
          16.375,
          16.45296287536621,
          16.32796287536621,
          16.45296287536621,
          16.604896545410156,
          16.503360748291016,
          16.375,
          16.729896545410156,
          16.604896545410156,
          16.729896545410156,
          16.828121185302734,
          16.503360748291016,
          16.628360748291016,
          16.760324478149414,
          16.628360748291016,
          16.828121185302734,
          16.83844566345215,
          16.760324478149414,
          16.83844566345215
         ]
        },
        {
         "marker": {
          "color": "red",
          "size": 10
         },
         "mode": "markers",
         "name": "mean",
         "type": "scatter",
         "x": [
          16.051437377929688
         ],
         "y": [
          15.79841423034668
         ]
        }
       ],
       "layout": {
        "height": 700,
        "legend": {
         "x": 0.8,
         "y": 0.9
        },
        "template": {
         "data": {
          "bar": [
           {
            "error_x": {
             "color": "#2a3f5f"
            },
            "error_y": {
             "color": "#2a3f5f"
            },
            "marker": {
             "line": {
              "color": "#E5ECF6",
              "width": 0.5
             },
             "pattern": {
              "fillmode": "overlay",
              "size": 10,
              "solidity": 0.2
             }
            },
            "type": "bar"
           }
          ],
          "barpolar": [
           {
            "marker": {
             "line": {
              "color": "#E5ECF6",
              "width": 0.5
             },
             "pattern": {
              "fillmode": "overlay",
              "size": 10,
              "solidity": 0.2
             }
            },
            "type": "barpolar"
           }
          ],
          "carpet": [
           {
            "aaxis": {
             "endlinecolor": "#2a3f5f",
             "gridcolor": "white",
             "linecolor": "white",
             "minorgridcolor": "white",
             "startlinecolor": "#2a3f5f"
            },
            "baxis": {
             "endlinecolor": "#2a3f5f",
             "gridcolor": "white",
             "linecolor": "white",
             "minorgridcolor": "white",
             "startlinecolor": "#2a3f5f"
            },
            "type": "carpet"
           }
          ],
          "choropleth": [
           {
            "colorbar": {
             "outlinewidth": 0,
             "ticks": ""
            },
            "type": "choropleth"
           }
          ],
          "contour": [
           {
            "colorbar": {
             "outlinewidth": 0,
             "ticks": ""
            },
            "colorscale": [
             [
              0,
              "#0d0887"
             ],
             [
              0.1111111111111111,
              "#46039f"
             ],
             [
              0.2222222222222222,
              "#7201a8"
             ],
             [
              0.3333333333333333,
              "#9c179e"
             ],
             [
              0.4444444444444444,
              "#bd3786"
             ],
             [
              0.5555555555555556,
              "#d8576b"
             ],
             [
              0.6666666666666666,
              "#ed7953"
             ],
             [
              0.7777777777777778,
              "#fb9f3a"
             ],
             [
              0.8888888888888888,
              "#fdca26"
             ],
             [
              1,
              "#f0f921"
             ]
            ],
            "type": "contour"
           }
          ],
          "contourcarpet": [
           {
            "colorbar": {
             "outlinewidth": 0,
             "ticks": ""
            },
            "type": "contourcarpet"
           }
          ],
          "heatmap": [
           {
            "colorbar": {
             "outlinewidth": 0,
             "ticks": ""
            },
            "colorscale": [
             [
              0,
              "#0d0887"
             ],
             [
              0.1111111111111111,
              "#46039f"
             ],
             [
              0.2222222222222222,
              "#7201a8"
             ],
             [
              0.3333333333333333,
              "#9c179e"
             ],
             [
              0.4444444444444444,
              "#bd3786"
             ],
             [
              0.5555555555555556,
              "#d8576b"
             ],
             [
              0.6666666666666666,
              "#ed7953"
             ],
             [
              0.7777777777777778,
              "#fb9f3a"
             ],
             [
              0.8888888888888888,
              "#fdca26"
             ],
             [
              1,
              "#f0f921"
             ]
            ],
            "type": "heatmap"
           }
          ],
          "heatmapgl": [
           {
            "colorbar": {
             "outlinewidth": 0,
             "ticks": ""
            },
            "colorscale": [
             [
              0,
              "#0d0887"
             ],
             [
              0.1111111111111111,
              "#46039f"
             ],
             [
              0.2222222222222222,
              "#7201a8"
             ],
             [
              0.3333333333333333,
              "#9c179e"
             ],
             [
              0.4444444444444444,
              "#bd3786"
             ],
             [
              0.5555555555555556,
              "#d8576b"
             ],
             [
              0.6666666666666666,
              "#ed7953"
             ],
             [
              0.7777777777777778,
              "#fb9f3a"
             ],
             [
              0.8888888888888888,
              "#fdca26"
             ],
             [
              1,
              "#f0f921"
             ]
            ],
            "type": "heatmapgl"
           }
          ],
          "histogram": [
           {
            "marker": {
             "pattern": {
              "fillmode": "overlay",
              "size": 10,
              "solidity": 0.2
             }
            },
            "type": "histogram"
           }
          ],
          "histogram2d": [
           {
            "colorbar": {
             "outlinewidth": 0,
             "ticks": ""
            },
            "colorscale": [
             [
              0,
              "#0d0887"
             ],
             [
              0.1111111111111111,
              "#46039f"
             ],
             [
              0.2222222222222222,
              "#7201a8"
             ],
             [
              0.3333333333333333,
              "#9c179e"
             ],
             [
              0.4444444444444444,
              "#bd3786"
             ],
             [
              0.5555555555555556,
              "#d8576b"
             ],
             [
              0.6666666666666666,
              "#ed7953"
             ],
             [
              0.7777777777777778,
              "#fb9f3a"
             ],
             [
              0.8888888888888888,
              "#fdca26"
             ],
             [
              1,
              "#f0f921"
             ]
            ],
            "type": "histogram2d"
           }
          ],
          "histogram2dcontour": [
           {
            "colorbar": {
             "outlinewidth": 0,
             "ticks": ""
            },
            "colorscale": [
             [
              0,
              "#0d0887"
             ],
             [
              0.1111111111111111,
              "#46039f"
             ],
             [
              0.2222222222222222,
              "#7201a8"
             ],
             [
              0.3333333333333333,
              "#9c179e"
             ],
             [
              0.4444444444444444,
              "#bd3786"
             ],
             [
              0.5555555555555556,
              "#d8576b"
             ],
             [
              0.6666666666666666,
              "#ed7953"
             ],
             [
              0.7777777777777778,
              "#fb9f3a"
             ],
             [
              0.8888888888888888,
              "#fdca26"
             ],
             [
              1,
              "#f0f921"
             ]
            ],
            "type": "histogram2dcontour"
           }
          ],
          "mesh3d": [
           {
            "colorbar": {
             "outlinewidth": 0,
             "ticks": ""
            },
            "type": "mesh3d"
           }
          ],
          "parcoords": [
           {
            "line": {
             "colorbar": {
              "outlinewidth": 0,
              "ticks": ""
             }
            },
            "type": "parcoords"
           }
          ],
          "pie": [
           {
            "automargin": true,
            "type": "pie"
           }
          ],
          "scatter": [
           {
            "fillpattern": {
             "fillmode": "overlay",
             "size": 10,
             "solidity": 0.2
            },
            "type": "scatter"
           }
          ],
          "scatter3d": [
           {
            "line": {
             "colorbar": {
              "outlinewidth": 0,
              "ticks": ""
             }
            },
            "marker": {
             "colorbar": {
              "outlinewidth": 0,
              "ticks": ""
             }
            },
            "type": "scatter3d"
           }
          ],
          "scattercarpet": [
           {
            "marker": {
             "colorbar": {
              "outlinewidth": 0,
              "ticks": ""
             }
            },
            "type": "scattercarpet"
           }
          ],
          "scattergeo": [
           {
            "marker": {
             "colorbar": {
              "outlinewidth": 0,
              "ticks": ""
             }
            },
            "type": "scattergeo"
           }
          ],
          "scattergl": [
           {
            "marker": {
             "colorbar": {
              "outlinewidth": 0,
              "ticks": ""
             }
            },
            "type": "scattergl"
           }
          ],
          "scattermapbox": [
           {
            "marker": {
             "colorbar": {
              "outlinewidth": 0,
              "ticks": ""
             }
            },
            "type": "scattermapbox"
           }
          ],
          "scatterpolar": [
           {
            "marker": {
             "colorbar": {
              "outlinewidth": 0,
              "ticks": ""
             }
            },
            "type": "scatterpolar"
           }
          ],
          "scatterpolargl": [
           {
            "marker": {
             "colorbar": {
              "outlinewidth": 0,
              "ticks": ""
             }
            },
            "type": "scatterpolargl"
           }
          ],
          "scatterternary": [
           {
            "marker": {
             "colorbar": {
              "outlinewidth": 0,
              "ticks": ""
             }
            },
            "type": "scatterternary"
           }
          ],
          "surface": [
           {
            "colorbar": {
             "outlinewidth": 0,
             "ticks": ""
            },
            "colorscale": [
             [
              0,
              "#0d0887"
             ],
             [
              0.1111111111111111,
              "#46039f"
             ],
             [
              0.2222222222222222,
              "#7201a8"
             ],
             [
              0.3333333333333333,
              "#9c179e"
             ],
             [
              0.4444444444444444,
              "#bd3786"
             ],
             [
              0.5555555555555556,
              "#d8576b"
             ],
             [
              0.6666666666666666,
              "#ed7953"
             ],
             [
              0.7777777777777778,
              "#fb9f3a"
             ],
             [
              0.8888888888888888,
              "#fdca26"
             ],
             [
              1,
              "#f0f921"
             ]
            ],
            "type": "surface"
           }
          ],
          "table": [
           {
            "cells": {
             "fill": {
              "color": "#EBF0F8"
             },
             "line": {
              "color": "white"
             }
            },
            "header": {
             "fill": {
              "color": "#C8D4E3"
             },
             "line": {
              "color": "white"
             }
            },
            "type": "table"
           }
          ]
         },
         "layout": {
          "annotationdefaults": {
           "arrowcolor": "#2a3f5f",
           "arrowhead": 0,
           "arrowwidth": 1
          },
          "autotypenumbers": "strict",
          "coloraxis": {
           "colorbar": {
            "outlinewidth": 0,
            "ticks": ""
           }
          },
          "colorscale": {
           "diverging": [
            [
             0,
             "#8e0152"
            ],
            [
             0.1,
             "#c51b7d"
            ],
            [
             0.2,
             "#de77ae"
            ],
            [
             0.3,
             "#f1b6da"
            ],
            [
             0.4,
             "#fde0ef"
            ],
            [
             0.5,
             "#f7f7f7"
            ],
            [
             0.6,
             "#e6f5d0"
            ],
            [
             0.7,
             "#b8e186"
            ],
            [
             0.8,
             "#7fbc41"
            ],
            [
             0.9,
             "#4d9221"
            ],
            [
             1,
             "#276419"
            ]
           ],
           "sequential": [
            [
             0,
             "#0d0887"
            ],
            [
             0.1111111111111111,
             "#46039f"
            ],
            [
             0.2222222222222222,
             "#7201a8"
            ],
            [
             0.3333333333333333,
             "#9c179e"
            ],
            [
             0.4444444444444444,
             "#bd3786"
            ],
            [
             0.5555555555555556,
             "#d8576b"
            ],
            [
             0.6666666666666666,
             "#ed7953"
            ],
            [
             0.7777777777777778,
             "#fb9f3a"
            ],
            [
             0.8888888888888888,
             "#fdca26"
            ],
            [
             1,
             "#f0f921"
            ]
           ],
           "sequentialminus": [
            [
             0,
             "#0d0887"
            ],
            [
             0.1111111111111111,
             "#46039f"
            ],
            [
             0.2222222222222222,
             "#7201a8"
            ],
            [
             0.3333333333333333,
             "#9c179e"
            ],
            [
             0.4444444444444444,
             "#bd3786"
            ],
            [
             0.5555555555555556,
             "#d8576b"
            ],
            [
             0.6666666666666666,
             "#ed7953"
            ],
            [
             0.7777777777777778,
             "#fb9f3a"
            ],
            [
             0.8888888888888888,
             "#fdca26"
            ],
            [
             1,
             "#f0f921"
            ]
           ]
          },
          "colorway": [
           "#636efa",
           "#EF553B",
           "#00cc96",
           "#ab63fa",
           "#FFA15A",
           "#19d3f3",
           "#FF6692",
           "#B6E880",
           "#FF97FF",
           "#FECB52"
          ],
          "font": {
           "color": "#2a3f5f"
          },
          "geo": {
           "bgcolor": "white",
           "lakecolor": "white",
           "landcolor": "#E5ECF6",
           "showlakes": true,
           "showland": true,
           "subunitcolor": "white"
          },
          "hoverlabel": {
           "align": "left"
          },
          "hovermode": "closest",
          "mapbox": {
           "style": "light"
          },
          "paper_bgcolor": "white",
          "plot_bgcolor": "#E5ECF6",
          "polar": {
           "angularaxis": {
            "gridcolor": "white",
            "linecolor": "white",
            "ticks": ""
           },
           "bgcolor": "#E5ECF6",
           "radialaxis": {
            "gridcolor": "white",
            "linecolor": "white",
            "ticks": ""
           }
          },
          "scene": {
           "xaxis": {
            "backgroundcolor": "#E5ECF6",
            "gridcolor": "white",
            "gridwidth": 2,
            "linecolor": "white",
            "showbackground": true,
            "ticks": "",
            "zerolinecolor": "white"
           },
           "yaxis": {
            "backgroundcolor": "#E5ECF6",
            "gridcolor": "white",
            "gridwidth": 2,
            "linecolor": "white",
            "showbackground": true,
            "ticks": "",
            "zerolinecolor": "white"
           },
           "zaxis": {
            "backgroundcolor": "#E5ECF6",
            "gridcolor": "white",
            "gridwidth": 2,
            "linecolor": "white",
            "showbackground": true,
            "ticks": "",
            "zerolinecolor": "white"
           }
          },
          "shapedefaults": {
           "line": {
            "color": "#2a3f5f"
           }
          },
          "ternary": {
           "aaxis": {
            "gridcolor": "white",
            "linecolor": "white",
            "ticks": ""
           },
           "baxis": {
            "gridcolor": "white",
            "linecolor": "white",
            "ticks": ""
           },
           "bgcolor": "#E5ECF6",
           "caxis": {
            "gridcolor": "white",
            "linecolor": "white",
            "ticks": ""
           }
          },
          "title": {
           "x": 0.05
          },
          "xaxis": {
           "automargin": true,
           "gridcolor": "white",
           "linecolor": "white",
           "ticks": "",
           "title": {
            "standoff": 15
           },
           "zerolinecolor": "white",
           "zerolinewidth": 2
          },
          "yaxis": {
           "automargin": true,
           "gridcolor": "white",
           "linecolor": "white",
           "ticks": "",
           "title": {
            "standoff": 15
           },
           "zerolinecolor": "white",
           "zerolinewidth": 2
          }
         }
        },
        "title": {
         "text": "Border points, mean point, and all the segments through the mean"
        },
        "width": 700
       }
      }
     },
     "metadata": {},
     "output_type": "display_data"
    }
   ],
   "source": [
    "# get the same list of points, plus the points in the middle of each border segment\n",
    "# (in alternative you can also provide an external list of points, else it uses the data points loaded before)\n",
    "extra_points = ext.add_intermediate_points(times=2, optional_points=None)\n",
    "\n",
    "# get segments through mean, using the extra points\n",
    "all_segments_through_mean = ext.get_all_segments_through_mean(\n",
    "    optional_points=extra_points\n",
    ")\n",
    "\n",
    "# get the longest segment\n",
    "max_segment, max_length = ext.get_max_segment(all_segments_through_mean)\n",
    "print(f\"The length of the longest segment is {max_length:.4f} mm\")\n",
    "\n",
    "# ----------------------------- plot -----------------------------\n",
    "fig = go.Figure()\n",
    "\n",
    "for segment in all_segments_through_mean:\n",
    "    fig.add_trace(\n",
    "        go.Scatter(\n",
    "            x=[segment[0][0], segment[1][0]],\n",
    "            y=[segment[0][1], segment[1][1]],\n",
    "            showlegend=False,\n",
    "            mode=\"lines\",\n",
    "        )\n",
    "    )\n",
    "\n",
    "fig.add_trace(\n",
    "    go.Scatter(\n",
    "        x=[max_segment[0][0], max_segment[1][0]],\n",
    "        y=[max_segment[0][1], max_segment[1][1]],\n",
    "        mode=\"lines\",\n",
    "        name=\"longest segment\",\n",
    "        line=dict(color=\"red\", width=5),\n",
    "    )\n",
    ")\n",
    "\n",
    "fig.add_trace(\n",
    "    go.Scatter(\n",
    "        x=extra_points[:, 0], y=extra_points[:, 1], mode=\"markers\", showlegend=False\n",
    "    )\n",
    ")\n",
    "fig.add_trace(\n",
    "    go.Scatter(\n",
    "        x=[mean_point[0]],\n",
    "        y=[mean_point[1]],\n",
    "        mode=\"markers\",\n",
    "        marker=mean_marker,\n",
    "        name=\"mean\",\n",
    "    )\n",
    ")\n",
    "\n",
    "fig.update_layout(\n",
    "    title=\"Border points, mean point, and all the segments through the mean\", **layout\n",
    ")\n",
    "fig.show()"
   ]
  }
 ],
 "metadata": {
  "kernelspec": {
   "display_name": "opt_nerve",
   "language": "python",
   "name": "python3"
  },
  "language_info": {
   "codemirror_mode": {
    "name": "ipython",
    "version": 3
   },
   "file_extension": ".py",
   "mimetype": "text/x-python",
   "name": "python",
   "nbconvert_exporter": "python",
   "pygments_lexer": "ipython3",
   "version": "3.9.15"
  },
  "orig_nbformat": 4
 },
 "nbformat": 4,
 "nbformat_minor": 2
}
